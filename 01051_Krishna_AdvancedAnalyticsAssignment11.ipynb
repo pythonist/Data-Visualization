{
 "cells": [
  {
   "cell_type": "markdown",
   "metadata": {},
   "source": [
    "# Q1"
   ]
  },
  {
   "cell_type": "code",
   "execution_count": null,
   "metadata": {},
   "outputs": [],
   "source": [
    "import pandas as pd\n",
    "import numpy as np"
   ]
  },
  {
   "cell_type": "code",
   "execution_count": null,
   "metadata": {},
   "outputs": [],
   "source": [
    "import pandas as pd\n",
    "import matplotlib.pyplot as plt\n",
    "from sklearn import linear_model\n",
    "%matplotlib inline"
   ]
  },
  {
   "cell_type": "code",
   "execution_count": null,
   "metadata": {},
   "outputs": [],
   "source": [
    "df=pd.read_excel(\"Loans.xlsx\")"
   ]
  },
  {
   "cell_type": "code",
   "execution_count": null,
   "metadata": {},
   "outputs": [],
   "source": [
    "df.rename(columns = {'Ln_Orig':'loan'}, inplace = True) "
   ]
  },
  {
   "cell_type": "code",
   "execution_count": null,
   "metadata": {},
   "outputs": [],
   "source": [
    "df.head()"
   ]
  },
  {
   "cell_type": "code",
   "execution_count": null,
   "metadata": {},
   "outputs": [],
   "source": [
    "plt.xlabel('loan')\n",
    "plt.ylabel('Monthly_Income')\n",
    "plt.scatter(df['loan'],df['Monthly_Income'],color='blue')"
   ]
  },
  {
   "cell_type": "code",
   "execution_count": null,
   "metadata": {},
   "outputs": [],
   "source": [
    "reg=linear_model.LinearRegression()\n",
    "reg.fit(df[['Monthly_Income']].values,df[['loan']])\n",
    "print(\"Loan when monthly income is 7336:\",reg.predict([[7336]]))\n",
    "print(reg.coef_,reg.intercept_)"
   ]
  },
  {
   "cell_type": "markdown",
   "metadata": {},
   "source": [
    "# Q2"
   ]
  },
  {
   "cell_type": "code",
   "execution_count": null,
   "metadata": {},
   "outputs": [],
   "source": [
    "df1 = pd.read_excel(\"Major League Baseball.xlsx\",skiprows=2)"
   ]
  },
  {
   "cell_type": "code",
   "execution_count": null,
   "metadata": {},
   "outputs": [],
   "source": [
    "df1.head()"
   ]
  },
  {
   "cell_type": "code",
   "execution_count": null,
   "metadata": {},
   "outputs": [],
   "source": [
    "import seaborn as sns\n",
    "import matplotlib.pyplot as plt\n",
    "%matplotlib inline"
   ]
  },
  {
   "cell_type": "code",
   "execution_count": null,
   "metadata": {},
   "outputs": [],
   "source": [
    "CM = df1.corr()\n",
    "plt.subplots(figsize=(10,10))\n",
    "sns.heatmap(CM, annot = True, vmin=-1, vmax=1, center= 0, cmap= 'coolwarm', \n",
    "            linewidths=3, linecolor='black')\n",
    "plt.show()"
   ]
  },
  {
   "cell_type": "code",
   "execution_count": null,
   "metadata": {},
   "outputs": [],
   "source": [
    "from statsmodels.stats.outliers_influence import variance_inflation_factor "
   ]
  },
  {
   "cell_type": "code",
   "execution_count": null,
   "metadata": {},
   "outputs": [],
   "source": [
    "X = df1[['Runs Batted In','Runs','Won','Lost','Hits','Home Runs']]\n",
    "vif_df1 = pd.DataFrame() \n",
    "vif_df1[\"feature\"] = X.columns "
   ]
  },
  {
   "cell_type": "code",
   "execution_count": null,
   "metadata": {},
   "outputs": [],
   "source": [
    "vif_df1[\"VIF\"] = [variance_inflation_factor(X.values, i) \n",
    "                          for i in range(len(X.columns))] \n",
    "  \n",
    "print(vif_df1)"
   ]
  },
  {
   "cell_type": "code",
   "execution_count": null,
   "metadata": {},
   "outputs": [],
   "source": [
    "plt.scatter(df1['Won'], df1['Runs Batted In'], color='red')\n",
    "plt.title('Data', fontsize=10)\n",
    "plt.xlabel('Wins', fontsize=14)\n",
    "plt.ylabel('Runs', fontsize=14)\n",
    "plt.grid(True)\n",
    "plt.show()"
   ]
  },
  {
   "cell_type": "code",
   "execution_count": null,
   "metadata": {},
   "outputs": [],
   "source": [
    "plt.scatter(df1['Won'], df1['Runs'], color='blue')\n",
    "plt.title('Data', fontsize=10)\n",
    "plt.xlabel('Wins', fontsize=14)\n",
    "plt.ylabel('Runs', fontsize=14)\n",
    "plt.grid(True)\n",
    "plt.show()"
   ]
  },
  {
   "cell_type": "code",
   "execution_count": null,
   "metadata": {},
   "outputs": [],
   "source": [
    "from sklearn import linear_model\n",
    "import statsmodels.api as sm\n",
    "X = df1[['Hits','Home Runs']]\n",
    "Y = df1['Won']\n",
    " \n",
    "# with sklearn\n",
    "regr = linear_model.LinearRegression()\n",
    "regr.fit(X, Y)\n",
    "\n",
    "print('Intercept:', regr.intercept_)\n",
    "print('Coefficients:', regr.coef_)\n",
    "\n",
    "# prediction with some values\n",
    "Hits = 1500\n",
    "homeruns = 150\n",
    "print ('Predicted:', regr.predict([[Hits,homeruns]]))\n",
    "\n",
    "# with statsmodels\n",
    "X = sm.add_constant(X)\n",
    " \n",
    "model = sm.OLS(Y, X).fit()\n",
    "predictions = model.predict(X) \n",
    " \n",
    "print_model = model.summary()\n",
    "print(print_model)"
   ]
  },
  {
   "cell_type": "markdown",
   "metadata": {},
   "source": [
    "# Q3"
   ]
  },
  {
   "cell_type": "code",
   "execution_count": null,
   "metadata": {},
   "outputs": [],
   "source": [
    "df2 = pd.read_excel('Auto Survey.xlsx',skiprows=2)"
   ]
  },
  {
   "cell_type": "code",
   "execution_count": null,
   "metadata": {},
   "outputs": [],
   "source": [
    "df2.head(10)"
   ]
  },
  {
   "cell_type": "code",
   "execution_count": null,
   "metadata": {},
   "outputs": [],
   "source": [
    "df2.columns"
   ]
  },
  {
   "cell_type": "code",
   "execution_count": null,
   "metadata": {},
   "outputs": [],
   "source": [
    "X = df2[['Vehicle Age',' Mileage']]\n",
    "Y = df2['MPG']\n",
    "regr = linear_model.LinearRegression()\n",
    "regr.fit(X, Y)\n",
    "print('Intercept:', regr.intercept_)\n",
    "print('Coefficients:', regr.coef_)\n",
    "#predicting with some values\n",
    "Vage = 13.0\n",
    "milage = 45274\n",
    "print ('Predicted:', regr.predict([[Vage,milage]]))\n",
    "X = sm.add_constant(X)\n",
    "model = sm.OLS(Y, X).fit()\n",
    "predictions = model.predict(X) \n",
    "print_model = model.summary()\n",
    "print(print_model)"
   ]
  },
  {
   "cell_type": "code",
   "execution_count": null,
   "metadata": {},
   "outputs": [],
   "source": [
    "cat_df = pd.get_dummies(df2['Gender'])"
   ]
  },
  {
   "cell_type": "code",
   "execution_count": null,
   "metadata": {},
   "outputs": [],
   "source": [
    "new_df = df2.join(cat_df)\n",
    "new_df"
   ]
  },
  {
   "cell_type": "code",
   "execution_count": null,
   "metadata": {},
   "outputs": [],
   "source": [
    "X = new_df[['Vehicle Age',' Mileage','Female','Male']]\n",
    "Y = new_df['MPG']\n",
    "regr = linear_model.LinearRegression()\n",
    "regr.fit(X, Y)\n",
    "print('Intercept:', regr.intercept_)\n",
    "print('Coefficients:', regr.coef_)\n",
    "#based on some values\n",
    "Vage = 13.0\n",
    "milage = 45274\n",
    "female = 0\n",
    "male = 1\n",
    "print ('Predicted:', regr.predict([[Vage,milage,female,male]]))\n",
    "X = sm.add_constant(X)\n",
    "model = sm.OLS(Y, X).fit()\n",
    "predictions = model.predict(X) \n",
    "print_model = model.summary()\n",
    "print(print_model)"
   ]
  },
  {
   "cell_type": "code",
   "execution_count": null,
   "metadata": {},
   "outputs": [],
   "source": [
    "from scipy.stats import f_oneway\n",
    "from scipy import stats\n",
    "stats.f_oneway(df2['Vehicle Age'][df2['Type'] == 'Small'],\n",
    "               df2['Vehicle Age'][df2['Type'] == 'Mid-size'],\n",
    "               df2['Vehicle Age'][df2['Type'] == 'Minivan'],\n",
    "               df2['Vehicle Age'][df2['Type'] == 'Large SUV'],\n",
    "               df2['Vehicle Age'][df2['Type'] == 'Small SUV'])"
   ]
  },
  {
   "cell_type": "code",
   "execution_count": null,
   "metadata": {},
   "outputs": [],
   "source": [
    "pval=pvalue=0.546519276376811\n",
    "alpha=0.05\n",
    "if pval <= alpha: \n",
    "    print('Statistically Significant') \n",
    "else: \n",
    "    print('Not Statistically Significant')"
   ]
  },
  {
   "cell_type": "code",
   "execution_count": null,
   "metadata": {},
   "outputs": [],
   "source": []
  }
 ],
 "metadata": {
  "kernelspec": {
   "display_name": "Python 3",
   "language": "python",
   "name": "python3"
  },
  "language_info": {
   "codemirror_mode": {
    "name": "ipython",
    "version": 3
   },
   "file_extension": ".py",
   "mimetype": "text/x-python",
   "name": "python",
   "nbconvert_exporter": "python",
   "pygments_lexer": "ipython3",
   "version": "3.8.5"
  }
 },
 "nbformat": 4,
 "nbformat_minor": 4
}
