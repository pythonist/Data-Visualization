{
 "cells": [
  {
   "cell_type": "code",
   "execution_count": 1,
   "metadata": {},
   "outputs": [],
   "source": [
    "import pandas as pd\n",
    "from scipy import stats"
   ]
  },
  {
   "cell_type": "markdown",
   "metadata": {},
   "source": [
    "# Q1"
   ]
  },
  {
   "cell_type": "code",
   "execution_count": 2,
   "metadata": {},
   "outputs": [],
   "source": [
    "df = pd.read_excel('Sales Data.xlsx',skiprows=2)"
   ]
  },
  {
   "cell_type": "code",
   "execution_count": 3,
   "metadata": {},
   "outputs": [
    {
     "data": {
      "text/html": [
       "<div>\n",
       "<style scoped>\n",
       "    .dataframe tbody tr th:only-of-type {\n",
       "        vertical-align: middle;\n",
       "    }\n",
       "\n",
       "    .dataframe tbody tr th {\n",
       "        vertical-align: top;\n",
       "    }\n",
       "\n",
       "    .dataframe thead th {\n",
       "        text-align: right;\n",
       "    }\n",
       "</style>\n",
       "<table border=\"1\" class=\"dataframe\">\n",
       "  <thead>\n",
       "    <tr style=\"text-align: right;\">\n",
       "      <th></th>\n",
       "      <th>Customer</th>\n",
       "      <th>Percent Gross Profit</th>\n",
       "      <th>Gross Sales</th>\n",
       "      <th>Gross Profit</th>\n",
       "      <th>Industry Code</th>\n",
       "      <th>Competitive Rating*</th>\n",
       "    </tr>\n",
       "  </thead>\n",
       "  <tbody>\n",
       "    <tr>\n",
       "      <th>0</th>\n",
       "      <td>1</td>\n",
       "      <td>0.51</td>\n",
       "      <td>170.0</td>\n",
       "      <td>86.70</td>\n",
       "      <td>1.0</td>\n",
       "      <td>2.0</td>\n",
       "    </tr>\n",
       "    <tr>\n",
       "      <th>1</th>\n",
       "      <td>2</td>\n",
       "      <td>0.32</td>\n",
       "      <td>181.0</td>\n",
       "      <td>57.92</td>\n",
       "      <td>3.0</td>\n",
       "      <td>4.0</td>\n",
       "    </tr>\n",
       "    <tr>\n",
       "      <th>2</th>\n",
       "      <td>3</td>\n",
       "      <td>0.20</td>\n",
       "      <td>203.0</td>\n",
       "      <td>40.60</td>\n",
       "      <td>2.0</td>\n",
       "      <td>2.0</td>\n",
       "    </tr>\n",
       "    <tr>\n",
       "      <th>3</th>\n",
       "      <td>4</td>\n",
       "      <td>0.22</td>\n",
       "      <td>249.0</td>\n",
       "      <td>54.78</td>\n",
       "      <td>5.0</td>\n",
       "      <td>1.0</td>\n",
       "    </tr>\n",
       "    <tr>\n",
       "      <th>4</th>\n",
       "      <td>5</td>\n",
       "      <td>0.21</td>\n",
       "      <td>476.0</td>\n",
       "      <td>99.96</td>\n",
       "      <td>5.0</td>\n",
       "      <td>1.0</td>\n",
       "    </tr>\n",
       "  </tbody>\n",
       "</table>\n",
       "</div>"
      ],
      "text/plain": [
       "  Customer   Percent Gross Profit  Gross Sales  Gross Profit  Industry Code  \\\n",
       "0        1                   0.51        170.0         86.70            1.0   \n",
       "1        2                   0.32        181.0         57.92            3.0   \n",
       "2        3                   0.20        203.0         40.60            2.0   \n",
       "3        4                   0.22        249.0         54.78            5.0   \n",
       "4        5                   0.21        476.0         99.96            5.0   \n",
       "\n",
       "   Competitive Rating*  \n",
       "0                  2.0  \n",
       "1                  4.0  \n",
       "2                  2.0  \n",
       "3                  1.0  \n",
       "4                  1.0  "
      ]
     },
     "execution_count": 3,
     "metadata": {},
     "output_type": "execute_result"
    }
   ],
   "source": [
    "df.head()"
   ]
  },
  {
   "cell_type": "code",
   "execution_count": 4,
   "metadata": {},
   "outputs": [
    {
     "data": {
      "text/html": [
       "<div>\n",
       "<style scoped>\n",
       "    .dataframe tbody tr th:only-of-type {\n",
       "        vertical-align: middle;\n",
       "    }\n",
       "\n",
       "    .dataframe tbody tr th {\n",
       "        vertical-align: top;\n",
       "    }\n",
       "\n",
       "    .dataframe thead th {\n",
       "        text-align: right;\n",
       "    }\n",
       "</style>\n",
       "<table border=\"1\" class=\"dataframe\">\n",
       "  <thead>\n",
       "    <tr style=\"text-align: right;\">\n",
       "      <th></th>\n",
       "      <th>Percent Gross Profit</th>\n",
       "      <th>Gross Sales</th>\n",
       "      <th>Gross Profit</th>\n",
       "      <th>Industry Code</th>\n",
       "      <th>Competitive Rating*</th>\n",
       "    </tr>\n",
       "  </thead>\n",
       "  <tbody>\n",
       "    <tr>\n",
       "      <th>count</th>\n",
       "      <td>60.000000</td>\n",
       "      <td>60.000000</td>\n",
       "      <td>60.000000</td>\n",
       "      <td>60.000000</td>\n",
       "      <td>60.000000</td>\n",
       "    </tr>\n",
       "    <tr>\n",
       "      <th>mean</th>\n",
       "      <td>0.211925</td>\n",
       "      <td>25016.500000</td>\n",
       "      <td>4239.164583</td>\n",
       "      <td>4.483333</td>\n",
       "      <td>3.000000</td>\n",
       "    </tr>\n",
       "    <tr>\n",
       "      <th>std</th>\n",
       "      <td>0.114014</td>\n",
       "      <td>36344.568583</td>\n",
       "      <td>5811.729263</td>\n",
       "      <td>1.899970</td>\n",
       "      <td>1.089239</td>\n",
       "    </tr>\n",
       "    <tr>\n",
       "      <th>min</th>\n",
       "      <td>0.030000</td>\n",
       "      <td>170.000000</td>\n",
       "      <td>40.600000</td>\n",
       "      <td>1.000000</td>\n",
       "      <td>1.000000</td>\n",
       "    </tr>\n",
       "    <tr>\n",
       "      <th>25%</th>\n",
       "      <td>0.140000</td>\n",
       "      <td>2645.750000</td>\n",
       "      <td>435.060000</td>\n",
       "      <td>3.000000</td>\n",
       "      <td>2.000000</td>\n",
       "    </tr>\n",
       "    <tr>\n",
       "      <th>50%</th>\n",
       "      <td>0.200000</td>\n",
       "      <td>6760.000000</td>\n",
       "      <td>1662.430000</td>\n",
       "      <td>5.000000</td>\n",
       "      <td>3.000000</td>\n",
       "    </tr>\n",
       "    <tr>\n",
       "      <th>75%</th>\n",
       "      <td>0.245000</td>\n",
       "      <td>32171.000000</td>\n",
       "      <td>5690.385000</td>\n",
       "      <td>6.000000</td>\n",
       "      <td>4.000000</td>\n",
       "    </tr>\n",
       "    <tr>\n",
       "      <th>max</th>\n",
       "      <td>0.600000</td>\n",
       "      <td>179101.000000</td>\n",
       "      <td>25379.340000</td>\n",
       "      <td>7.000000</td>\n",
       "      <td>5.000000</td>\n",
       "    </tr>\n",
       "  </tbody>\n",
       "</table>\n",
       "</div>"
      ],
      "text/plain": [
       "        Percent Gross Profit    Gross Sales  Gross Profit  Industry Code  \\\n",
       "count              60.000000      60.000000     60.000000      60.000000   \n",
       "mean                0.211925   25016.500000   4239.164583       4.483333   \n",
       "std                 0.114014   36344.568583   5811.729263       1.899970   \n",
       "min                 0.030000     170.000000     40.600000       1.000000   \n",
       "25%                 0.140000    2645.750000    435.060000       3.000000   \n",
       "50%                 0.200000    6760.000000   1662.430000       5.000000   \n",
       "75%                 0.245000   32171.000000   5690.385000       6.000000   \n",
       "max                 0.600000  179101.000000  25379.340000       7.000000   \n",
       "\n",
       "       Competitive Rating*  \n",
       "count            60.000000  \n",
       "mean              3.000000  \n",
       "std               1.089239  \n",
       "min               1.000000  \n",
       "25%               2.000000  \n",
       "50%               3.000000  \n",
       "75%               4.000000  \n",
       "max               5.000000  "
      ]
     },
     "execution_count": 4,
     "metadata": {},
     "output_type": "execute_result"
    }
   ],
   "source": [
    "df.describe()"
   ]
  },
  {
   "cell_type": "code",
   "execution_count": 5,
   "metadata": {},
   "outputs": [],
   "source": [
    "ax = df['Gross Profit'].mean()"
   ]
  },
  {
   "cell_type": "code",
   "execution_count": 6,
   "metadata": {},
   "outputs": [],
   "source": [
    "std=5811.729263\n",
    "mean = 4239.164583\n",
    "n=60\n",
    "mu_not=4500"
   ]
  },
  {
   "cell_type": "code",
   "execution_count": 7,
   "metadata": {},
   "outputs": [
    {
     "name": "stdout",
     "output_type": "stream",
     "text": [
      "T test value is -0.005798560936693412\n"
     ]
    }
   ],
   "source": [
    "t = (mean - mu_not)/std/7.74\n",
    "print('T test value is',t)"
   ]
  },
  {
   "cell_type": "code",
   "execution_count": 8,
   "metadata": {},
   "outputs": [],
   "source": [
    "from scipy.stats import t"
   ]
  },
  {
   "cell_type": "code",
   "execution_count": 9,
   "metadata": {},
   "outputs": [
    {
     "name": "stdout",
     "output_type": "stream",
     "text": [
      "The critical Value is - 2.00099537704821\n"
     ]
    }
   ],
   "source": [
    "print('The critical Value is -',t.ppf(1-0.025,59))"
   ]
  },
  {
   "cell_type": "code",
   "execution_count": 10,
   "metadata": {},
   "outputs": [
    {
     "name": "stdout",
     "output_type": "stream",
     "text": [
      "Ttest_1sampResult(statistic=-0.3476456590343202, pvalue=0.7293435113063342)\n"
     ]
    }
   ],
   "source": [
    "from scipy.stats import ttest_1samp\n",
    "pval=print(stats.ttest_1samp(df.dropna()['Gross Profit'],4500))"
   ]
  },
  {
   "cell_type": "code",
   "execution_count": 11,
   "metadata": {},
   "outputs": [
    {
     "name": "stdout",
     "output_type": "stream",
     "text": [
      "null hypothesis accepted\n"
     ]
    }
   ],
   "source": [
    "pvalue=0.7293435113063342\n",
    "if (pvalue < 0.05):    # alpha value is 0.05\n",
    "  print(\"null hypothesis rejected\")\n",
    "else:\n",
    "  print(\"null hypothesis accepted\")"
   ]
  },
  {
   "cell_type": "markdown",
   "metadata": {},
   "source": [
    "# Q2"
   ]
  },
  {
   "cell_type": "code",
   "execution_count": 12,
   "metadata": {},
   "outputs": [],
   "source": [
    "df1 = pd.read_excel('Ohio Education Performance.xlsx',skiprows=2)"
   ]
  },
  {
   "cell_type": "code",
   "execution_count": 13,
   "metadata": {},
   "outputs": [],
   "source": [
    "df1 = df1.dropna()"
   ]
  },
  {
   "cell_type": "code",
   "execution_count": 14,
   "metadata": {},
   "outputs": [
    {
     "name": "stdout",
     "output_type": "stream",
     "text": [
      "Ttest_relResult(statistic=3.1358073586138238, pvalue=0.0037370619398733713)\n",
      "Ttest_relResult(statistic=-7.978191276303862, pvalue=5.234100387897268e-09)\n"
     ]
    }
   ],
   "source": [
    "print(stats.ttest_rel(df1[\"Writing\"],df1[\"Reading\"]))\n",
    "print(stats.ttest_rel(df1[\"Math\"],df1[\"Science\"]))"
   ]
  },
  {
   "cell_type": "code",
   "execution_count": 15,
   "metadata": {},
   "outputs": [],
   "source": [
    "p1=0.0037370619398733713\n",
    "p2=5.234100387897268e-09"
   ]
  },
  {
   "cell_type": "code",
   "execution_count": 16,
   "metadata": {},
   "outputs": [
    {
     "name": "stdout",
     "output_type": "stream",
     "text": [
      "null hypothesis rejected\n"
     ]
    }
   ],
   "source": [
    "if (p1,p2 < 0.05):    \n",
    "  print(\"null hypothesis rejected\")\n",
    "else:\n",
    "  print(\"null hypothesis accepted\")"
   ]
  },
  {
   "cell_type": "markdown",
   "metadata": {},
   "source": [
    "# Q3"
   ]
  },
  {
   "cell_type": "code",
   "execution_count": 17,
   "metadata": {},
   "outputs": [
    {
     "data": {
      "text/html": [
       "<div>\n",
       "<style scoped>\n",
       "    .dataframe tbody tr th:only-of-type {\n",
       "        vertical-align: middle;\n",
       "    }\n",
       "\n",
       "    .dataframe tbody tr th {\n",
       "        vertical-align: top;\n",
       "    }\n",
       "\n",
       "    .dataframe thead th {\n",
       "        text-align: right;\n",
       "    }\n",
       "</style>\n",
       "<table border=\"1\" class=\"dataframe\">\n",
       "  <thead>\n",
       "    <tr style=\"text-align: right;\">\n",
       "      <th></th>\n",
       "      <th>Student</th>\n",
       "      <th>Gender</th>\n",
       "      <th>Hours online/week</th>\n",
       "      <th>Friends</th>\n",
       "    </tr>\n",
       "  </thead>\n",
       "  <tbody>\n",
       "    <tr>\n",
       "      <th>0</th>\n",
       "      <td>1</td>\n",
       "      <td>female</td>\n",
       "      <td>4</td>\n",
       "      <td>150</td>\n",
       "    </tr>\n",
       "    <tr>\n",
       "      <th>1</th>\n",
       "      <td>2</td>\n",
       "      <td>female</td>\n",
       "      <td>10</td>\n",
       "      <td>400</td>\n",
       "    </tr>\n",
       "    <tr>\n",
       "      <th>2</th>\n",
       "      <td>3</td>\n",
       "      <td>male</td>\n",
       "      <td>7</td>\n",
       "      <td>120</td>\n",
       "    </tr>\n",
       "    <tr>\n",
       "      <th>3</th>\n",
       "      <td>4</td>\n",
       "      <td>male</td>\n",
       "      <td>15</td>\n",
       "      <td>500</td>\n",
       "    </tr>\n",
       "    <tr>\n",
       "      <th>4</th>\n",
       "      <td>5</td>\n",
       "      <td>female</td>\n",
       "      <td>9</td>\n",
       "      <td>260</td>\n",
       "    </tr>\n",
       "  </tbody>\n",
       "</table>\n",
       "</div>"
      ],
      "text/plain": [
       "   Student  Gender  Hours online/week  Friends\n",
       "0        1  female                  4      150\n",
       "1        2  female                 10      400\n",
       "2        3    male                  7      120\n",
       "3        4    male                 15      500\n",
       "4        5  female                  9      260"
      ]
     },
     "execution_count": 17,
     "metadata": {},
     "output_type": "execute_result"
    }
   ],
   "source": [
    "df2 = pd.read_excel('Facebook Survey.xlsx',skiprows=2)\n",
    "df2.head()"
   ]
  },
  {
   "cell_type": "code",
   "execution_count": 18,
   "metadata": {},
   "outputs": [
    {
     "data": {
      "text/plain": [
       "F_onewayResult(statistic=0.042866767821699577, pvalue=0.8373303530923235)"
      ]
     },
     "execution_count": 18,
     "metadata": {},
     "output_type": "execute_result"
    }
   ],
   "source": [
    "stats.f_oneway(df2['Hours online/week'][df2['Gender'] == 'female'],\n",
    "               df2['Hours online/week'][df2['Gender'] == 'male'])              "
   ]
  },
  {
   "cell_type": "code",
   "execution_count": 19,
   "metadata": {},
   "outputs": [
    {
     "name": "stdout",
     "output_type": "stream",
     "text": [
      "null hypothesis accepted\n"
     ]
    }
   ],
   "source": [
    "p_val=0.8373303530923235\n",
    "if (p_val < 0.05):    \n",
    "  print(\"null hypothesis rejected\")\n",
    "else:\n",
    "  print(\"null hypothesis accepted\")"
   ]
  },
  {
   "cell_type": "markdown",
   "metadata": {},
   "source": [
    "# Q4"
   ]
  },
  {
   "cell_type": "code",
   "execution_count": 20,
   "metadata": {},
   "outputs": [],
   "source": [
    "df3 = pd.read_excel('Consumer Transportation Survey.xlsx',skiprows=2)"
   ]
  },
  {
   "cell_type": "code",
   "execution_count": 21,
   "metadata": {},
   "outputs": [
    {
     "data": {
      "text/html": [
       "<div>\n",
       "<style scoped>\n",
       "    .dataframe tbody tr th:only-of-type {\n",
       "        vertical-align: middle;\n",
       "    }\n",
       "\n",
       "    .dataframe tbody tr th {\n",
       "        vertical-align: top;\n",
       "    }\n",
       "\n",
       "    .dataframe thead th {\n",
       "        text-align: right;\n",
       "    }\n",
       "</style>\n",
       "<table border=\"1\" class=\"dataframe\">\n",
       "  <thead>\n",
       "    <tr style=\"text-align: right;\">\n",
       "      <th></th>\n",
       "      <th>Vehicle Driven</th>\n",
       "      <th>Type</th>\n",
       "      <th>Satisfaction with vehicle</th>\n",
       "      <th>Gender</th>\n",
       "      <th>Age</th>\n",
       "      <th># of hours per week in vehicle</th>\n",
       "      <th>Miles driven per week</th>\n",
       "      <th>Number of Children</th>\n",
       "      <th>Average number of riders</th>\n",
       "      <th>Miles from work</th>\n",
       "    </tr>\n",
       "  </thead>\n",
       "  <tbody>\n",
       "    <tr>\n",
       "      <th>0</th>\n",
       "      <td>Truck</td>\n",
       "      <td>Domestic</td>\n",
       "      <td>Yes</td>\n",
       "      <td>Male</td>\n",
       "      <td>31</td>\n",
       "      <td>10</td>\n",
       "      <td>450</td>\n",
       "      <td>0</td>\n",
       "      <td>1</td>\n",
       "      <td>30</td>\n",
       "    </tr>\n",
       "    <tr>\n",
       "      <th>1</th>\n",
       "      <td>Truck</td>\n",
       "      <td>Domestic</td>\n",
       "      <td>Yes</td>\n",
       "      <td>Male</td>\n",
       "      <td>29</td>\n",
       "      <td>5</td>\n",
       "      <td>370</td>\n",
       "      <td>1</td>\n",
       "      <td>1</td>\n",
       "      <td>22</td>\n",
       "    </tr>\n",
       "    <tr>\n",
       "      <th>2</th>\n",
       "      <td>Truck</td>\n",
       "      <td>Foreign</td>\n",
       "      <td>No</td>\n",
       "      <td>Male</td>\n",
       "      <td>26</td>\n",
       "      <td>12</td>\n",
       "      <td>580</td>\n",
       "      <td>0</td>\n",
       "      <td>1</td>\n",
       "      <td>15</td>\n",
       "    </tr>\n",
       "    <tr>\n",
       "      <th>3</th>\n",
       "      <td>Truck</td>\n",
       "      <td>Domestic</td>\n",
       "      <td>No</td>\n",
       "      <td>Male</td>\n",
       "      <td>18</td>\n",
       "      <td>6</td>\n",
       "      <td>300</td>\n",
       "      <td>0</td>\n",
       "      <td>1</td>\n",
       "      <td>20</td>\n",
       "    </tr>\n",
       "    <tr>\n",
       "      <th>4</th>\n",
       "      <td>SUV</td>\n",
       "      <td>Domestic</td>\n",
       "      <td>Yes</td>\n",
       "      <td>Male</td>\n",
       "      <td>49</td>\n",
       "      <td>21</td>\n",
       "      <td>1000</td>\n",
       "      <td>0</td>\n",
       "      <td>1</td>\n",
       "      <td>22</td>\n",
       "    </tr>\n",
       "  </tbody>\n",
       "</table>\n",
       "</div>"
      ],
      "text/plain": [
       "  Vehicle Driven      Type Satisfaction with vehicle Gender  Age  \\\n",
       "0          Truck  Domestic                       Yes   Male   31   \n",
       "1          Truck  Domestic                       Yes   Male   29   \n",
       "2          Truck   Foreign                        No   Male   26   \n",
       "3          Truck  Domestic                        No   Male   18   \n",
       "4            SUV  Domestic                       Yes   Male   49   \n",
       "\n",
       "   # of hours per week in vehicle  Miles driven per week  Number of Children   \\\n",
       "0                              10                    450                    0   \n",
       "1                               5                    370                    1   \n",
       "2                              12                    580                    0   \n",
       "3                               6                    300                    0   \n",
       "4                              21                   1000                    0   \n",
       "\n",
       "   Average number of riders  Miles from work  \n",
       "0                         1               30  \n",
       "1                         1               22  \n",
       "2                         1               15  \n",
       "3                         1               20  \n",
       "4                         1               22  "
      ]
     },
     "execution_count": 21,
     "metadata": {},
     "output_type": "execute_result"
    }
   ],
   "source": [
    "df3.head()"
   ]
  },
  {
   "cell_type": "code",
   "execution_count": 22,
   "metadata": {},
   "outputs": [
    {
     "name": "stdout",
     "output_type": "stream",
     "text": [
      "Ttest_1sampResult(statistic=0.2190845519343845, pvalue=0.827494218330276)\n",
      "Ttest_1sampResult(statistic=-2.369407386313186, pvalue=0.02180041862974647)\n",
      "null hypothesis accepted\n"
     ]
    }
   ],
   "source": [
    "print(stats.ttest_1samp(df3.dropna()['# of hours per week in vehicle'],8))\n",
    "print(stats.ttest_1samp(df3.dropna()['Miles driven per week'],600))\n",
    "if (0.827494218330276 < 0.05):   \n",
    "  print(\"null hypothesis rejected\")\n",
    "else:\n",
    "  print(\"null hypothesis accepted\")"
   ]
  },
  {
   "cell_type": "code",
   "execution_count": 23,
   "metadata": {},
   "outputs": [
    {
     "name": "stdout",
     "output_type": "stream",
     "text": [
      "null hypothesis rejected\n"
     ]
    }
   ],
   "source": [
    "if (0.02180041862974647 < 0.05):    \n",
    "  print(\"null hypothesis rejected\")\n",
    "else:\n",
    "  print(\"null hypothesis accepted\")"
   ]
  },
  {
   "cell_type": "code",
   "execution_count": 24,
   "metadata": {},
   "outputs": [],
   "source": [
    "sdf3=df3[df3['Vehicle Driven']=='SUV'] "
   ]
  },
  {
   "cell_type": "code",
   "execution_count": 25,
   "metadata": {},
   "outputs": [
    {
     "data": {
      "text/html": [
       "<div>\n",
       "<style scoped>\n",
       "    .dataframe tbody tr th:only-of-type {\n",
       "        vertical-align: middle;\n",
       "    }\n",
       "\n",
       "    .dataframe tbody tr th {\n",
       "        vertical-align: top;\n",
       "    }\n",
       "\n",
       "    .dataframe thead th {\n",
       "        text-align: right;\n",
       "    }\n",
       "</style>\n",
       "<table border=\"1\" class=\"dataframe\">\n",
       "  <thead>\n",
       "    <tr style=\"text-align: right;\">\n",
       "      <th></th>\n",
       "      <th>Vehicle Driven</th>\n",
       "      <th>Type</th>\n",
       "      <th>Satisfaction with vehicle</th>\n",
       "      <th>Gender</th>\n",
       "      <th>Age</th>\n",
       "      <th># of hours per week in vehicle</th>\n",
       "      <th>Miles driven per week</th>\n",
       "      <th>Number of Children</th>\n",
       "      <th>Average number of riders</th>\n",
       "      <th>Miles from work</th>\n",
       "    </tr>\n",
       "  </thead>\n",
       "  <tbody>\n",
       "    <tr>\n",
       "      <th>4</th>\n",
       "      <td>SUV</td>\n",
       "      <td>Domestic</td>\n",
       "      <td>Yes</td>\n",
       "      <td>Male</td>\n",
       "      <td>49</td>\n",
       "      <td>21</td>\n",
       "      <td>1000</td>\n",
       "      <td>0</td>\n",
       "      <td>1</td>\n",
       "      <td>22</td>\n",
       "    </tr>\n",
       "    <tr>\n",
       "      <th>5</th>\n",
       "      <td>SUV</td>\n",
       "      <td>Foreign</td>\n",
       "      <td>Yes</td>\n",
       "      <td>Male</td>\n",
       "      <td>50</td>\n",
       "      <td>16</td>\n",
       "      <td>840</td>\n",
       "      <td>2</td>\n",
       "      <td>1</td>\n",
       "      <td>45</td>\n",
       "    </tr>\n",
       "    <tr>\n",
       "      <th>6</th>\n",
       "      <td>SUV</td>\n",
       "      <td>Domestic</td>\n",
       "      <td>Yes</td>\n",
       "      <td>Male</td>\n",
       "      <td>48</td>\n",
       "      <td>15</td>\n",
       "      <td>1400</td>\n",
       "      <td>3</td>\n",
       "      <td>4</td>\n",
       "      <td>25</td>\n",
       "    </tr>\n",
       "    <tr>\n",
       "      <th>7</th>\n",
       "      <td>SUV</td>\n",
       "      <td>Foreign</td>\n",
       "      <td>Yes</td>\n",
       "      <td>Male</td>\n",
       "      <td>45</td>\n",
       "      <td>5</td>\n",
       "      <td>300</td>\n",
       "      <td>2</td>\n",
       "      <td>2</td>\n",
       "      <td>20</td>\n",
       "    </tr>\n",
       "    <tr>\n",
       "      <th>8</th>\n",
       "      <td>SUV</td>\n",
       "      <td>Domestic</td>\n",
       "      <td>Yes</td>\n",
       "      <td>Male</td>\n",
       "      <td>45</td>\n",
       "      <td>15</td>\n",
       "      <td>850</td>\n",
       "      <td>0</td>\n",
       "      <td>1</td>\n",
       "      <td>25</td>\n",
       "    </tr>\n",
       "  </tbody>\n",
       "</table>\n",
       "</div>"
      ],
      "text/plain": [
       "  Vehicle Driven      Type Satisfaction with vehicle Gender  Age  \\\n",
       "4            SUV  Domestic                       Yes   Male   49   \n",
       "5            SUV   Foreign                       Yes   Male   50   \n",
       "6            SUV  Domestic                       Yes   Male   48   \n",
       "7            SUV   Foreign                       Yes   Male   45   \n",
       "8            SUV  Domestic                       Yes   Male   45   \n",
       "\n",
       "   # of hours per week in vehicle  Miles driven per week  Number of Children   \\\n",
       "4                              21                   1000                    0   \n",
       "5                              16                    840                    2   \n",
       "6                              15                   1400                    3   \n",
       "7                               5                    300                    2   \n",
       "8                              15                    850                    0   \n",
       "\n",
       "   Average number of riders  Miles from work  \n",
       "4                         1               22  \n",
       "5                         1               45  \n",
       "6                         4               25  \n",
       "7                         2               20  \n",
       "8                         1               25  "
      ]
     },
     "execution_count": 25,
     "metadata": {},
     "output_type": "execute_result"
    }
   ],
   "source": [
    "sdf3.head()"
   ]
  },
  {
   "cell_type": "code",
   "execution_count": 26,
   "metadata": {},
   "outputs": [
    {
     "name": "stdout",
     "output_type": "stream",
     "text": [
      "Ttest_1sampResult(statistic=2.2210983164738285, pvalue=0.043349319430440215)\n",
      "null hypothesis rejected\n"
     ]
    }
   ],
   "source": [
    "print(stats.ttest_1samp(sdf3.dropna()['Age'],35))\n",
    "if (0.043349319430440215 < 0.05):    \n",
    "  print(\"null hypothesis rejected\")\n",
    "else:\n",
    "  print(\"null hypothesis accepted\")"
   ]
  },
  {
   "cell_type": "code",
   "execution_count": 27,
   "metadata": {},
   "outputs": [],
   "source": [
    "table = pd.crosstab(df3['Vehicle Driven'], df3['Satisfaction with vehicle'], normalize='index') * 100"
   ]
  },
  {
   "cell_type": "code",
   "execution_count": 28,
   "metadata": {},
   "outputs": [
    {
     "data": {
      "text/html": [
       "<div>\n",
       "<style scoped>\n",
       "    .dataframe tbody tr th:only-of-type {\n",
       "        vertical-align: middle;\n",
       "    }\n",
       "\n",
       "    .dataframe tbody tr th {\n",
       "        vertical-align: top;\n",
       "    }\n",
       "\n",
       "    .dataframe thead th {\n",
       "        text-align: right;\n",
       "    }\n",
       "</style>\n",
       "<table border=\"1\" class=\"dataframe\">\n",
       "  <thead>\n",
       "    <tr style=\"text-align: right;\">\n",
       "      <th>Satisfaction with vehicle</th>\n",
       "      <th>No</th>\n",
       "      <th>Yes</th>\n",
       "    </tr>\n",
       "    <tr>\n",
       "      <th>Vehicle Driven</th>\n",
       "      <th></th>\n",
       "      <th></th>\n",
       "    </tr>\n",
       "  </thead>\n",
       "  <tbody>\n",
       "    <tr>\n",
       "      <th>Car</th>\n",
       "      <td>36.363636</td>\n",
       "      <td>63.636364</td>\n",
       "    </tr>\n",
       "    <tr>\n",
       "      <th>Mini Van</th>\n",
       "      <td>22.222222</td>\n",
       "      <td>77.777778</td>\n",
       "    </tr>\n",
       "    <tr>\n",
       "      <th>SUV</th>\n",
       "      <td>20.000000</td>\n",
       "      <td>80.000000</td>\n",
       "    </tr>\n",
       "    <tr>\n",
       "      <th>Truck</th>\n",
       "      <td>50.000000</td>\n",
       "      <td>50.000000</td>\n",
       "    </tr>\n",
       "  </tbody>\n",
       "</table>\n",
       "</div>"
      ],
      "text/plain": [
       "Satisfaction with vehicle         No        Yes\n",
       "Vehicle Driven                                 \n",
       "Car                        36.363636  63.636364\n",
       "Mini Van                   22.222222  77.777778\n",
       "SUV                        20.000000  80.000000\n",
       "Truck                      50.000000  50.000000"
      ]
     },
     "execution_count": 28,
     "metadata": {},
     "output_type": "execute_result"
    }
   ],
   "source": [
    "table"
   ]
  },
  {
   "cell_type": "markdown",
   "metadata": {},
   "source": [
    "# Q5"
   ]
  },
  {
   "cell_type": "code",
   "execution_count": 29,
   "metadata": {},
   "outputs": [
    {
     "data": {
      "text/html": [
       "<div>\n",
       "<style scoped>\n",
       "    .dataframe tbody tr th:only-of-type {\n",
       "        vertical-align: middle;\n",
       "    }\n",
       "\n",
       "    .dataframe tbody tr th {\n",
       "        vertical-align: top;\n",
       "    }\n",
       "\n",
       "    .dataframe thead th {\n",
       "        text-align: right;\n",
       "    }\n",
       "</style>\n",
       "<table border=\"1\" class=\"dataframe\">\n",
       "  <thead>\n",
       "    <tr style=\"text-align: right;\">\n",
       "      <th></th>\n",
       "      <th>Age</th>\n",
       "      <th>Gender</th>\n",
       "      <th>Relationship Status</th>\n",
       "      <th>Vacations/year</th>\n",
       "      <th>Number of Children</th>\n",
       "    </tr>\n",
       "  </thead>\n",
       "  <tbody>\n",
       "    <tr>\n",
       "      <th>0</th>\n",
       "      <td>24</td>\n",
       "      <td>Male</td>\n",
       "      <td>Married</td>\n",
       "      <td>2</td>\n",
       "      <td>0</td>\n",
       "    </tr>\n",
       "    <tr>\n",
       "      <th>1</th>\n",
       "      <td>26</td>\n",
       "      <td>Female</td>\n",
       "      <td>Married</td>\n",
       "      <td>4</td>\n",
       "      <td>0</td>\n",
       "    </tr>\n",
       "    <tr>\n",
       "      <th>2</th>\n",
       "      <td>28</td>\n",
       "      <td>Male</td>\n",
       "      <td>Married</td>\n",
       "      <td>2</td>\n",
       "      <td>2</td>\n",
       "    </tr>\n",
       "    <tr>\n",
       "      <th>3</th>\n",
       "      <td>33</td>\n",
       "      <td>Male</td>\n",
       "      <td>Married</td>\n",
       "      <td>4</td>\n",
       "      <td>0</td>\n",
       "    </tr>\n",
       "    <tr>\n",
       "      <th>4</th>\n",
       "      <td>45</td>\n",
       "      <td>Male</td>\n",
       "      <td>Married</td>\n",
       "      <td>2</td>\n",
       "      <td>0</td>\n",
       "    </tr>\n",
       "  </tbody>\n",
       "</table>\n",
       "</div>"
      ],
      "text/plain": [
       "   Age  Gender Relationship Status   Vacations/year  Number of Children\n",
       "0   24    Male             Married                2                   0\n",
       "1   26  Female             Married                4                   0\n",
       "2   28    Male             Married                2                   2\n",
       "3   33    Male             Married                4                   0\n",
       "4   45    Male             Married                2                   0"
      ]
     },
     "execution_count": 29,
     "metadata": {},
     "output_type": "execute_result"
    }
   ],
   "source": [
    "df4 = pd.read_excel(\"Vacation Survey.xlsx\",skiprows=2)\n",
    "df4.head()"
   ]
  },
  {
   "cell_type": "code",
   "execution_count": 30,
   "metadata": {},
   "outputs": [
    {
     "data": {
      "text/plain": [
       "Index(['Age', 'Gender', 'Relationship Status', ' Vacations/year',\n",
       "       'Number of Children'],\n",
       "      dtype='object')"
      ]
     },
     "execution_count": 30,
     "metadata": {},
     "output_type": "execute_result"
    }
   ],
   "source": [
    "df4.columns"
   ]
  },
  {
   "cell_type": "code",
   "execution_count": 31,
   "metadata": {},
   "outputs": [
    {
     "data": {
      "text/plain": [
       "F_onewayResult(statistic=5.137876515182228, pvalue=0.030304942459291655)"
      ]
     },
     "execution_count": 31,
     "metadata": {},
     "output_type": "execute_result"
    }
   ],
   "source": [
    "stats.f_oneway(df4[' Vacations/year'][df4['Relationship Status'] == 'Married'],\n",
    "               df4[' Vacations/year'][df4['Relationship Status'] == 'Single/Divorced'])"
   ]
  },
  {
   "cell_type": "code",
   "execution_count": 32,
   "metadata": {},
   "outputs": [
    {
     "name": "stdout",
     "output_type": "stream",
     "text": [
      "null hypothesis rejected\n"
     ]
    }
   ],
   "source": [
    "pv_al=0.030304942459291655\n",
    "if (pv_al < 0.05):    # alpha value is 0.05\n",
    "  print(\"null hypothesis rejected\")\n",
    "else:\n",
    "  print(\"null hypothesis accepted\")"
   ]
  },
  {
   "cell_type": "code",
   "execution_count": 33,
   "metadata": {},
   "outputs": [
    {
     "name": "stdout",
     "output_type": "stream",
     "text": [
      "null hypothesis accepted\n"
     ]
    }
   ],
   "source": [
    "if (pv_al < 0.01):    # alpha value is 0.01\n",
    "  print(\"null hypothesis rejected\")\n",
    "else:\n",
    "  print(\"null hypothesis accepted\")"
   ]
  },
  {
   "cell_type": "code",
   "execution_count": null,
   "metadata": {},
   "outputs": [],
   "source": []
  }
 ],
 "metadata": {
  "kernelspec": {
   "display_name": "Python 3",
   "language": "python",
   "name": "python3"
  },
  "language_info": {
   "codemirror_mode": {
    "name": "ipython",
    "version": 3
   },
   "file_extension": ".py",
   "mimetype": "text/x-python",
   "name": "python",
   "nbconvert_exporter": "python",
   "pygments_lexer": "ipython3",
   "version": "3.8.3"
  }
 },
 "nbformat": 4,
 "nbformat_minor": 4
}
