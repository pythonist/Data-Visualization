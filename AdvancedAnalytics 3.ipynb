{
 "cells": [
  {
   "cell_type": "code",
   "execution_count": 1,
   "metadata": {},
   "outputs": [],
   "source": [
    "import pandas as pd\n",
    "import numpy as np\n",
    "import matplotlib.pyplot as plt"
   ]
  },
  {
   "cell_type": "code",
   "execution_count": 5,
   "metadata": {},
   "outputs": [],
   "source": [
    "df = pd.read_excel('Facebook Survey.xlsx',skiprows=2)"
   ]
  },
  {
   "cell_type": "code",
   "execution_count": 6,
   "metadata": {},
   "outputs": [
    {
     "data": {
      "text/html": [
       "<div>\n",
       "<style scoped>\n",
       "    .dataframe tbody tr th:only-of-type {\n",
       "        vertical-align: middle;\n",
       "    }\n",
       "\n",
       "    .dataframe tbody tr th {\n",
       "        vertical-align: top;\n",
       "    }\n",
       "\n",
       "    .dataframe thead th {\n",
       "        text-align: right;\n",
       "    }\n",
       "</style>\n",
       "<table border=\"1\" class=\"dataframe\">\n",
       "  <thead>\n",
       "    <tr style=\"text-align: right;\">\n",
       "      <th></th>\n",
       "      <th>Student</th>\n",
       "      <th>Gender</th>\n",
       "      <th>Hours online/week</th>\n",
       "      <th>Friends</th>\n",
       "    </tr>\n",
       "  </thead>\n",
       "  <tbody>\n",
       "    <tr>\n",
       "      <th>0</th>\n",
       "      <td>1</td>\n",
       "      <td>female</td>\n",
       "      <td>4</td>\n",
       "      <td>150</td>\n",
       "    </tr>\n",
       "    <tr>\n",
       "      <th>1</th>\n",
       "      <td>2</td>\n",
       "      <td>female</td>\n",
       "      <td>10</td>\n",
       "      <td>400</td>\n",
       "    </tr>\n",
       "    <tr>\n",
       "      <th>2</th>\n",
       "      <td>3</td>\n",
       "      <td>male</td>\n",
       "      <td>7</td>\n",
       "      <td>120</td>\n",
       "    </tr>\n",
       "    <tr>\n",
       "      <th>3</th>\n",
       "      <td>4</td>\n",
       "      <td>male</td>\n",
       "      <td>15</td>\n",
       "      <td>500</td>\n",
       "    </tr>\n",
       "    <tr>\n",
       "      <th>4</th>\n",
       "      <td>5</td>\n",
       "      <td>female</td>\n",
       "      <td>9</td>\n",
       "      <td>260</td>\n",
       "    </tr>\n",
       "    <tr>\n",
       "      <th>5</th>\n",
       "      <td>6</td>\n",
       "      <td>female</td>\n",
       "      <td>5</td>\n",
       "      <td>70</td>\n",
       "    </tr>\n",
       "    <tr>\n",
       "      <th>6</th>\n",
       "      <td>7</td>\n",
       "      <td>female</td>\n",
       "      <td>7</td>\n",
       "      <td>90</td>\n",
       "    </tr>\n",
       "    <tr>\n",
       "      <th>7</th>\n",
       "      <td>8</td>\n",
       "      <td>male</td>\n",
       "      <td>5</td>\n",
       "      <td>250</td>\n",
       "    </tr>\n",
       "    <tr>\n",
       "      <th>8</th>\n",
       "      <td>9</td>\n",
       "      <td>female</td>\n",
       "      <td>12</td>\n",
       "      <td>110</td>\n",
       "    </tr>\n",
       "    <tr>\n",
       "      <th>9</th>\n",
       "      <td>10</td>\n",
       "      <td>female</td>\n",
       "      <td>2</td>\n",
       "      <td>30</td>\n",
       "    </tr>\n",
       "  </tbody>\n",
       "</table>\n",
       "</div>"
      ],
      "text/plain": [
       "   Student  Gender  Hours online/week  Friends\n",
       "0        1  female                  4      150\n",
       "1        2  female                 10      400\n",
       "2        3    male                  7      120\n",
       "3        4    male                 15      500\n",
       "4        5  female                  9      260\n",
       "5        6  female                  5       70\n",
       "6        7  female                  7       90\n",
       "7        8    male                  5      250\n",
       "8        9  female                 12      110\n",
       "9       10  female                  2       30"
      ]
     },
     "execution_count": 6,
     "metadata": {},
     "output_type": "execute_result"
    }
   ],
   "source": [
    "df.head(10)"
   ]
  },
  {
   "cell_type": "code",
   "execution_count": 7,
   "metadata": {},
   "outputs": [
    {
     "name": "stdout",
     "output_type": "stream",
     "text": [
      "The average number of hours online per week is: 6.242424242424242\n"
     ]
    }
   ],
   "source": [
    "print('The average number of hours online per week is:',df['Hours online/week'].mean())"
   ]
  },
  {
   "cell_type": "code",
   "execution_count": 8,
   "metadata": {},
   "outputs": [
    {
     "name": "stdout",
     "output_type": "stream",
     "text": [
      "The average number of friends are: 176.96969696969697\n"
     ]
    }
   ],
   "source": [
    "print('The average number of friends are:',df['Friends'].mean())"
   ]
  },
  {
   "cell_type": "code",
   "execution_count": 9,
   "metadata": {},
   "outputs": [],
   "source": [
    "max = np.amax(df['Friends'], axis = 0)\n",
    "min = np.amin(df['Friends'],axis = 0)"
   ]
  },
  {
   "cell_type": "code",
   "execution_count": 10,
   "metadata": {},
   "outputs": [
    {
     "name": "stdout",
     "output_type": "stream",
     "text": [
      "Mid range for Friends is: 515.0\n"
     ]
    }
   ],
   "source": [
    "mid_range = max+min/2\n",
    "print('Mid range for Friends is:',mid_range)"
   ]
  },
  {
   "cell_type": "code",
   "execution_count": 11,
   "metadata": {},
   "outputs": [],
   "source": [
    "weekmax = np.amax(df['Hours online/week'], axis = 0)\n",
    "weekmin = np.amin(df['Hours online/week'],axis = 0)"
   ]
  },
  {
   "cell_type": "code",
   "execution_count": 9,
   "metadata": {},
   "outputs": [
    {
     "name": "stdout",
     "output_type": "stream",
     "text": [
      "Mid range for Weeks: 16.0\n"
     ]
    }
   ],
   "source": [
    "mid_range_week = weekmax + weekmin /2\n",
    "print('Mid range for Weeks:',mid_range_week)"
   ]
  },
  {
   "cell_type": "code",
   "execution_count": 10,
   "metadata": {},
   "outputs": [
    {
     "name": "stdout",
     "output_type": "stream",
     "text": [
      "Mean:Computed column-wise:\n",
      "Student               17.000000\n",
      "Hours online/week      6.242424\n",
      "Friends              176.969697\n",
      "dtype: float64\n",
      "Median:Computed column-wise:\n",
      "Student               17.0\n",
      "Hours online/week      6.0\n",
      "Friends              120.0\n",
      "dtype: float64\n",
      "Mode computed for Hours online and friends 0    4\n",
      "dtype: int64 0    50\n",
      "1    90\n",
      "dtype: int64\n"
     ]
    }
   ],
   "source": [
    "print(\"Mean:Computed column-wise:\");\n",
    "meanData = df.mean();\n",
    "print(meanData);\n",
    "\n",
    "print(\"Median:Computed column-wise:\");\n",
    "medianData = df.median();\n",
    "print(medianData);\n",
    "\n",
    "print('Mode computed for Hours online and friends',df['Hours online/week'].mode(),df['Friends'].mode())"
   ]
  },
  {
   "cell_type": "code",
   "execution_count": 11,
   "metadata": {},
   "outputs": [
    {
     "data": {
      "text/html": [
       "<div>\n",
       "<style scoped>\n",
       "    .dataframe tbody tr th:only-of-type {\n",
       "        vertical-align: middle;\n",
       "    }\n",
       "\n",
       "    .dataframe tbody tr th {\n",
       "        vertical-align: top;\n",
       "    }\n",
       "\n",
       "    .dataframe thead th {\n",
       "        text-align: right;\n",
       "    }\n",
       "</style>\n",
       "<table border=\"1\" class=\"dataframe\">\n",
       "  <thead>\n",
       "    <tr style=\"text-align: right;\">\n",
       "      <th></th>\n",
       "      <th>Week</th>\n",
       "      <th>Units Sold</th>\n",
       "    </tr>\n",
       "  </thead>\n",
       "  <tbody>\n",
       "    <tr>\n",
       "      <th>0</th>\n",
       "      <td>1</td>\n",
       "      <td>88</td>\n",
       "    </tr>\n",
       "    <tr>\n",
       "      <th>1</th>\n",
       "      <td>2</td>\n",
       "      <td>44</td>\n",
       "    </tr>\n",
       "    <tr>\n",
       "      <th>2</th>\n",
       "      <td>3</td>\n",
       "      <td>60</td>\n",
       "    </tr>\n",
       "    <tr>\n",
       "      <th>3</th>\n",
       "      <td>4</td>\n",
       "      <td>56</td>\n",
       "    </tr>\n",
       "    <tr>\n",
       "      <th>4</th>\n",
       "      <td>5</td>\n",
       "      <td>70</td>\n",
       "    </tr>\n",
       "  </tbody>\n",
       "</table>\n",
       "</div>"
      ],
      "text/plain": [
       "   Week  Units Sold\n",
       "0     1          88\n",
       "1     2          44\n",
       "2     3          60\n",
       "3     4          56\n",
       "4     5          70"
      ]
     },
     "execution_count": 11,
     "metadata": {},
     "output_type": "execute_result"
    }
   ],
   "source": [
    "df1 = pd.read_excel('Tablet Computer Sales.xlsx')\n",
    "df1.head(5)"
   ]
  },
  {
   "cell_type": "code",
   "execution_count": 12,
   "metadata": {},
   "outputs": [
    {
     "data": {
      "text/html": [
       "<div>\n",
       "<style scoped>\n",
       "    .dataframe tbody tr th:only-of-type {\n",
       "        vertical-align: middle;\n",
       "    }\n",
       "\n",
       "    .dataframe tbody tr th {\n",
       "        vertical-align: top;\n",
       "    }\n",
       "\n",
       "    .dataframe thead th {\n",
       "        text-align: right;\n",
       "    }\n",
       "</style>\n",
       "<table border=\"1\" class=\"dataframe\">\n",
       "  <thead>\n",
       "    <tr style=\"text-align: right;\">\n",
       "      <th></th>\n",
       "      <th>Week</th>\n",
       "      <th>Units Sold</th>\n",
       "    </tr>\n",
       "  </thead>\n",
       "  <tbody>\n",
       "    <tr>\n",
       "      <th>0</th>\n",
       "      <td>1</td>\n",
       "      <td>88</td>\n",
       "    </tr>\n",
       "    <tr>\n",
       "      <th>1</th>\n",
       "      <td>2</td>\n",
       "      <td>44</td>\n",
       "    </tr>\n",
       "    <tr>\n",
       "      <th>2</th>\n",
       "      <td>3</td>\n",
       "      <td>60</td>\n",
       "    </tr>\n",
       "    <tr>\n",
       "      <th>3</th>\n",
       "      <td>4</td>\n",
       "      <td>56</td>\n",
       "    </tr>\n",
       "    <tr>\n",
       "      <th>4</th>\n",
       "      <td>5</td>\n",
       "      <td>70</td>\n",
       "    </tr>\n",
       "    <tr>\n",
       "      <th>5</th>\n",
       "      <td>6</td>\n",
       "      <td>91</td>\n",
       "    </tr>\n",
       "    <tr>\n",
       "      <th>6</th>\n",
       "      <td>7</td>\n",
       "      <td>54</td>\n",
       "    </tr>\n",
       "    <tr>\n",
       "      <th>7</th>\n",
       "      <td>8</td>\n",
       "      <td>60</td>\n",
       "    </tr>\n",
       "    <tr>\n",
       "      <th>8</th>\n",
       "      <td>9</td>\n",
       "      <td>48</td>\n",
       "    </tr>\n",
       "    <tr>\n",
       "      <th>9</th>\n",
       "      <td>10</td>\n",
       "      <td>35</td>\n",
       "    </tr>\n",
       "    <tr>\n",
       "      <th>10</th>\n",
       "      <td>11</td>\n",
       "      <td>49</td>\n",
       "    </tr>\n",
       "    <tr>\n",
       "      <th>11</th>\n",
       "      <td>12</td>\n",
       "      <td>44</td>\n",
       "    </tr>\n",
       "    <tr>\n",
       "      <th>12</th>\n",
       "      <td>13</td>\n",
       "      <td>61</td>\n",
       "    </tr>\n",
       "    <tr>\n",
       "      <th>13</th>\n",
       "      <td>14</td>\n",
       "      <td>68</td>\n",
       "    </tr>\n",
       "    <tr>\n",
       "      <th>14</th>\n",
       "      <td>15</td>\n",
       "      <td>82</td>\n",
       "    </tr>\n",
       "    <tr>\n",
       "      <th>15</th>\n",
       "      <td>16</td>\n",
       "      <td>71</td>\n",
       "    </tr>\n",
       "    <tr>\n",
       "      <th>16</th>\n",
       "      <td>17</td>\n",
       "      <td>50</td>\n",
       "    </tr>\n",
       "  </tbody>\n",
       "</table>\n",
       "</div>"
      ],
      "text/plain": [
       "    Week  Units Sold\n",
       "0      1          88\n",
       "1      2          44\n",
       "2      3          60\n",
       "3      4          56\n",
       "4      5          70\n",
       "5      6          91\n",
       "6      7          54\n",
       "7      8          60\n",
       "8      9          48\n",
       "9     10          35\n",
       "10    11          49\n",
       "11    12          44\n",
       "12    13          61\n",
       "13    14          68\n",
       "14    15          82\n",
       "15    16          71\n",
       "16    17          50"
      ]
     },
     "execution_count": 12,
     "metadata": {},
     "output_type": "execute_result"
    }
   ],
   "source": [
    "df1"
   ]
  },
  {
   "cell_type": "code",
   "execution_count": 13,
   "metadata": {},
   "outputs": [
    {
     "name": "stdout",
     "output_type": "stream",
     "text": [
      "The average number of units sold are 60.64705882352941\n"
     ]
    }
   ],
   "source": [
    "a = df1['Units Sold'].mean()\n",
    "print('The average number of units sold are',a)"
   ]
  },
  {
   "cell_type": "code",
   "execution_count": 14,
   "metadata": {},
   "outputs": [
    {
     "name": "stdout",
     "output_type": "stream",
     "text": [
      "The standard deviation for Units Sold is: 60.64705882352941\n"
     ]
    }
   ],
   "source": [
    "#standard deviation\n",
    "st_d = np.std(df1['Units Sold'])\n",
    "print('The standard deviation for Units Sold is:',a)"
   ]
  },
  {
   "cell_type": "code",
   "execution_count": 15,
   "metadata": {},
   "outputs": [],
   "source": [
    "from scipy import stats"
   ]
  },
  {
   "cell_type": "code",
   "execution_count": 16,
   "metadata": {},
   "outputs": [
    {
     "name": "stdout",
     "output_type": "stream",
     "text": [
      "The IQR is: 21.0\n"
     ]
    }
   ],
   "source": [
    "print('The IQR is:',stats.iqr(df1['Units Sold']))"
   ]
  },
  {
   "cell_type": "code",
   "execution_count": 17,
   "metadata": {},
   "outputs": [
    {
     "data": {
      "text/plain": [
       "238.9342560553633"
      ]
     },
     "execution_count": 17,
     "metadata": {},
     "output_type": "execute_result"
    }
   ],
   "source": [
    "#Chebyshev's Theorem\n",
    "st_d * st_d"
   ]
  },
  {
   "cell_type": "code",
   "execution_count": 18,
   "metadata": {},
   "outputs": [
    {
     "data": {
      "text/plain": [
       "0.0041852516943752536"
      ]
     },
     "execution_count": 18,
     "metadata": {},
     "output_type": "execute_result"
    }
   ],
   "source": [
    "1 / 238.9342560553633"
   ]
  },
  {
   "cell_type": "code",
   "execution_count": 19,
   "metadata": {},
   "outputs": [
    {
     "data": {
      "text/plain": [
       "0.9958147483056248"
      ]
     },
     "execution_count": 19,
     "metadata": {},
     "output_type": "execute_result"
    }
   ],
   "source": [
    "1 - 0.0041852516943752536"
   ]
  },
  {
   "cell_type": "code",
   "execution_count": 20,
   "metadata": {},
   "outputs": [
    {
     "data": {
      "text/plain": [
       "1.0041852516943752"
      ]
     },
     "execution_count": 20,
     "metadata": {},
     "output_type": "execute_result"
    }
   ],
   "source": [
    "1 + 0.0041852516943752536"
   ]
  },
  {
   "cell_type": "code",
   "execution_count": 21,
   "metadata": {},
   "outputs": [
    {
     "data": {
      "text/plain": [
       "29.73206207079704"
      ]
     },
     "execution_count": 21,
     "metadata": {},
     "output_type": "execute_result"
    }
   ],
   "source": [
    "#mean – 2 standard deviations\n",
    "a - 2 * st_d"
   ]
  },
  {
   "cell_type": "code",
   "execution_count": 22,
   "metadata": {},
   "outputs": [
    {
     "data": {
      "text/plain": [
       "91.56205557626178"
      ]
     },
     "execution_count": 22,
     "metadata": {},
     "output_type": "execute_result"
    }
   ],
   "source": [
    "a + 2 * st_d"
   ]
  },
  {
   "cell_type": "code",
   "execution_count": 23,
   "metadata": {},
   "outputs": [],
   "source": [
    "df2 = pd.read_excel('Colleges and Universities.xlsx')"
   ]
  },
  {
   "cell_type": "code",
   "execution_count": 24,
   "metadata": {},
   "outputs": [
    {
     "data": {
      "text/html": [
       "<div>\n",
       "<style scoped>\n",
       "    .dataframe tbody tr th:only-of-type {\n",
       "        vertical-align: middle;\n",
       "    }\n",
       "\n",
       "    .dataframe tbody tr th {\n",
       "        vertical-align: top;\n",
       "    }\n",
       "\n",
       "    .dataframe thead th {\n",
       "        text-align: right;\n",
       "    }\n",
       "</style>\n",
       "<table border=\"1\" class=\"dataframe\">\n",
       "  <thead>\n",
       "    <tr style=\"text-align: right;\">\n",
       "      <th></th>\n",
       "      <th>School</th>\n",
       "      <th>Type</th>\n",
       "      <th>Median SAT</th>\n",
       "      <th>Acceptance Rate</th>\n",
       "      <th>Expenditures/Student</th>\n",
       "      <th>Top 10% HS</th>\n",
       "      <th>Graduation %</th>\n",
       "    </tr>\n",
       "  </thead>\n",
       "  <tbody>\n",
       "    <tr>\n",
       "      <th>0</th>\n",
       "      <td>Amherst</td>\n",
       "      <td>Lib Arts</td>\n",
       "      <td>1315</td>\n",
       "      <td>0.22</td>\n",
       "      <td>26636</td>\n",
       "      <td>85</td>\n",
       "      <td>93</td>\n",
       "    </tr>\n",
       "    <tr>\n",
       "      <th>1</th>\n",
       "      <td>Barnard</td>\n",
       "      <td>Lib Arts</td>\n",
       "      <td>1220</td>\n",
       "      <td>0.53</td>\n",
       "      <td>17653</td>\n",
       "      <td>69</td>\n",
       "      <td>80</td>\n",
       "    </tr>\n",
       "    <tr>\n",
       "      <th>2</th>\n",
       "      <td>Bates</td>\n",
       "      <td>Lib Arts</td>\n",
       "      <td>1240</td>\n",
       "      <td>0.36</td>\n",
       "      <td>17554</td>\n",
       "      <td>58</td>\n",
       "      <td>88</td>\n",
       "    </tr>\n",
       "    <tr>\n",
       "      <th>3</th>\n",
       "      <td>Berkeley</td>\n",
       "      <td>University</td>\n",
       "      <td>1176</td>\n",
       "      <td>0.37</td>\n",
       "      <td>23665</td>\n",
       "      <td>95</td>\n",
       "      <td>68</td>\n",
       "    </tr>\n",
       "    <tr>\n",
       "      <th>4</th>\n",
       "      <td>Bowdoin</td>\n",
       "      <td>Lib Arts</td>\n",
       "      <td>1300</td>\n",
       "      <td>0.24</td>\n",
       "      <td>25703</td>\n",
       "      <td>78</td>\n",
       "      <td>90</td>\n",
       "    </tr>\n",
       "    <tr>\n",
       "      <th>5</th>\n",
       "      <td>Brown</td>\n",
       "      <td>University</td>\n",
       "      <td>1281</td>\n",
       "      <td>0.24</td>\n",
       "      <td>24201</td>\n",
       "      <td>80</td>\n",
       "      <td>90</td>\n",
       "    </tr>\n",
       "    <tr>\n",
       "      <th>6</th>\n",
       "      <td>Bryn Mawr</td>\n",
       "      <td>Lib Arts</td>\n",
       "      <td>1255</td>\n",
       "      <td>0.56</td>\n",
       "      <td>18847</td>\n",
       "      <td>70</td>\n",
       "      <td>84</td>\n",
       "    </tr>\n",
       "    <tr>\n",
       "      <th>7</th>\n",
       "      <td>Cal Tech</td>\n",
       "      <td>University</td>\n",
       "      <td>1400</td>\n",
       "      <td>0.31</td>\n",
       "      <td>102262</td>\n",
       "      <td>98</td>\n",
       "      <td>75</td>\n",
       "    </tr>\n",
       "    <tr>\n",
       "      <th>8</th>\n",
       "      <td>Carleton</td>\n",
       "      <td>Lib Arts</td>\n",
       "      <td>1300</td>\n",
       "      <td>0.40</td>\n",
       "      <td>15904</td>\n",
       "      <td>75</td>\n",
       "      <td>80</td>\n",
       "    </tr>\n",
       "    <tr>\n",
       "      <th>9</th>\n",
       "      <td>Carnegie Mellon</td>\n",
       "      <td>University</td>\n",
       "      <td>1225</td>\n",
       "      <td>0.64</td>\n",
       "      <td>33607</td>\n",
       "      <td>52</td>\n",
       "      <td>77</td>\n",
       "    </tr>\n",
       "  </tbody>\n",
       "</table>\n",
       "</div>"
      ],
      "text/plain": [
       "            School        Type  Median SAT  Acceptance Rate  \\\n",
       "0          Amherst    Lib Arts        1315             0.22   \n",
       "1          Barnard    Lib Arts        1220             0.53   \n",
       "2            Bates    Lib Arts        1240             0.36   \n",
       "3         Berkeley  University        1176             0.37   \n",
       "4          Bowdoin    Lib Arts        1300             0.24   \n",
       "5            Brown  University        1281             0.24   \n",
       "6        Bryn Mawr    Lib Arts        1255             0.56   \n",
       "7         Cal Tech  University        1400             0.31   \n",
       "8         Carleton    Lib Arts        1300             0.40   \n",
       "9  Carnegie Mellon  University        1225             0.64   \n",
       "\n",
       "   Expenditures/Student  Top 10% HS  Graduation %  \n",
       "0                 26636          85            93  \n",
       "1                 17653          69            80  \n",
       "2                 17554          58            88  \n",
       "3                 23665          95            68  \n",
       "4                 25703          78            90  \n",
       "5                 24201          80            90  \n",
       "6                 18847          70            84  \n",
       "7                102262          98            75  \n",
       "8                 15904          75            80  \n",
       "9                 33607          52            77  "
      ]
     },
     "execution_count": 24,
     "metadata": {},
     "output_type": "execute_result"
    }
   ],
   "source": [
    "df2.head(10)"
   ]
  },
  {
   "cell_type": "code",
   "execution_count": 25,
   "metadata": {},
   "outputs": [
    {
     "name": "stdout",
     "output_type": "stream",
     "text": [
      "Lib Arts      25\n",
      "University    24\n",
      "Name: Type, dtype: int64\n"
     ]
    },
    {
     "data": {
      "text/plain": [
       "Text(0.5, 0, 'For Lib arts and University students')"
      ]
     },
     "execution_count": 25,
     "metadata": {},
     "output_type": "execute_result"
    },
    {
     "data": {
      "image/png": "[encoded data removed]",
      "text/plain": [
       "<Figure size 432x288 with 1 Axes>"
      ]
     },
     "metadata": {
      "needs_background": "light"
     },
     "output_type": "display_data"
    }
   ],
   "source": [
    "print(df2['Type'].value_counts())\n",
    "#there are almost equal number of students for Arts and Research \n",
    "plt.hist(df2[\"Type\"])\n",
    "plt.ylabel('No of students')\n",
    "plt.xlabel('For Lib arts and University students')"
   ]
  },
  {
   "cell_type": "code",
   "execution_count": 26,
   "metadata": {},
   "outputs": [
    {
     "name": "stdout",
     "output_type": "stream",
     "text": [
      "DescribeResult(nobs=49, minmax=(61, 93), mean=83.24489795918367, variance=55.480442176870746, skewness=-0.7799985818798456, kurtosis=0.056149094553626266)\n",
      "DescribeResult(nobs=49, minmax=(47, 98), mean=74.20408163265306, variance=183.62414965986395, skewness=-0.2051981908143532, kurtosis=-0.8128309777866942)\n"
     ]
    }
   ],
   "source": [
    "print(stats.describe(df2['Graduation %']))\n",
    "print(stats.describe(df2['Top 10% HS']))"
   ]
  },
  {
   "cell_type": "code",
   "execution_count": 27,
   "metadata": {},
   "outputs": [],
   "source": [
    "#getting the continous and categorical columns\n",
    "numeric_data = df2.select_dtypes(include=[np.number])\n",
    "categorical_data = df2.select_dtypes(exclude=[np.number])"
   ]
  },
  {
   "cell_type": "code",
   "execution_count": 28,
   "metadata": {},
   "outputs": [
    {
     "data": {
      "text/html": [
       "<div>\n",
       "<style scoped>\n",
       "    .dataframe tbody tr th:only-of-type {\n",
       "        vertical-align: middle;\n",
       "    }\n",
       "\n",
       "    .dataframe tbody tr th {\n",
       "        vertical-align: top;\n",
       "    }\n",
       "\n",
       "    .dataframe thead th {\n",
       "        text-align: right;\n",
       "    }\n",
       "</style>\n",
       "<table border=\"1\" class=\"dataframe\">\n",
       "  <thead>\n",
       "    <tr style=\"text-align: right;\">\n",
       "      <th></th>\n",
       "      <th>Median SAT</th>\n",
       "      <th>Acceptance Rate</th>\n",
       "      <th>Expenditures/Student</th>\n",
       "      <th>Top 10% HS</th>\n",
       "      <th>Graduation %</th>\n",
       "    </tr>\n",
       "  </thead>\n",
       "  <tbody>\n",
       "    <tr>\n",
       "      <th>0</th>\n",
       "      <td>1315</td>\n",
       "      <td>0.22</td>\n",
       "      <td>26636</td>\n",
       "      <td>85</td>\n",
       "      <td>93</td>\n",
       "    </tr>\n",
       "    <tr>\n",
       "      <th>1</th>\n",
       "      <td>1220</td>\n",
       "      <td>0.53</td>\n",
       "      <td>17653</td>\n",
       "      <td>69</td>\n",
       "      <td>80</td>\n",
       "    </tr>\n",
       "    <tr>\n",
       "      <th>2</th>\n",
       "      <td>1240</td>\n",
       "      <td>0.36</td>\n",
       "      <td>17554</td>\n",
       "      <td>58</td>\n",
       "      <td>88</td>\n",
       "    </tr>\n",
       "    <tr>\n",
       "      <th>3</th>\n",
       "      <td>1176</td>\n",
       "      <td>0.37</td>\n",
       "      <td>23665</td>\n",
       "      <td>95</td>\n",
       "      <td>68</td>\n",
       "    </tr>\n",
       "    <tr>\n",
       "      <th>4</th>\n",
       "      <td>1300</td>\n",
       "      <td>0.24</td>\n",
       "      <td>25703</td>\n",
       "      <td>78</td>\n",
       "      <td>90</td>\n",
       "    </tr>\n",
       "    <tr>\n",
       "      <th>5</th>\n",
       "      <td>1281</td>\n",
       "      <td>0.24</td>\n",
       "      <td>24201</td>\n",
       "      <td>80</td>\n",
       "      <td>90</td>\n",
       "    </tr>\n",
       "    <tr>\n",
       "      <th>6</th>\n",
       "      <td>1255</td>\n",
       "      <td>0.56</td>\n",
       "      <td>18847</td>\n",
       "      <td>70</td>\n",
       "      <td>84</td>\n",
       "    </tr>\n",
       "    <tr>\n",
       "      <th>7</th>\n",
       "      <td>1400</td>\n",
       "      <td>0.31</td>\n",
       "      <td>102262</td>\n",
       "      <td>98</td>\n",
       "      <td>75</td>\n",
       "    </tr>\n",
       "    <tr>\n",
       "      <th>8</th>\n",
       "      <td>1300</td>\n",
       "      <td>0.40</td>\n",
       "      <td>15904</td>\n",
       "      <td>75</td>\n",
       "      <td>80</td>\n",
       "    </tr>\n",
       "    <tr>\n",
       "      <th>9</th>\n",
       "      <td>1225</td>\n",
       "      <td>0.64</td>\n",
       "      <td>33607</td>\n",
       "      <td>52</td>\n",
       "      <td>77</td>\n",
       "    </tr>\n",
       "  </tbody>\n",
       "</table>\n",
       "</div>"
      ],
      "text/plain": [
       "   Median SAT  Acceptance Rate  Expenditures/Student  Top 10% HS  Graduation %\n",
       "0        1315             0.22                 26636          85            93\n",
       "1        1220             0.53                 17653          69            80\n",
       "2        1240             0.36                 17554          58            88\n",
       "3        1176             0.37                 23665          95            68\n",
       "4        1300             0.24                 25703          78            90\n",
       "5        1281             0.24                 24201          80            90\n",
       "6        1255             0.56                 18847          70            84\n",
       "7        1400             0.31                102262          98            75\n",
       "8        1300             0.40                 15904          75            80\n",
       "9        1225             0.64                 33607          52            77"
      ]
     },
     "execution_count": 28,
     "metadata": {},
     "output_type": "execute_result"
    }
   ],
   "source": [
    "numeric_data.head(10)"
   ]
  },
  {
   "cell_type": "code",
   "execution_count": 29,
   "metadata": {},
   "outputs": [
    {
     "data": {
      "text/html": [
       "<div>\n",
       "<style scoped>\n",
       "    .dataframe tbody tr th:only-of-type {\n",
       "        vertical-align: middle;\n",
       "    }\n",
       "\n",
       "    .dataframe tbody tr th {\n",
       "        vertical-align: top;\n",
       "    }\n",
       "\n",
       "    .dataframe thead th {\n",
       "        text-align: right;\n",
       "    }\n",
       "</style>\n",
       "<table border=\"1\" class=\"dataframe\">\n",
       "  <thead>\n",
       "    <tr style=\"text-align: right;\">\n",
       "      <th></th>\n",
       "      <th>School</th>\n",
       "      <th>Type</th>\n",
       "    </tr>\n",
       "  </thead>\n",
       "  <tbody>\n",
       "    <tr>\n",
       "      <th>0</th>\n",
       "      <td>Amherst</td>\n",
       "      <td>Lib Arts</td>\n",
       "    </tr>\n",
       "    <tr>\n",
       "      <th>1</th>\n",
       "      <td>Barnard</td>\n",
       "      <td>Lib Arts</td>\n",
       "    </tr>\n",
       "    <tr>\n",
       "      <th>2</th>\n",
       "      <td>Bates</td>\n",
       "      <td>Lib Arts</td>\n",
       "    </tr>\n",
       "    <tr>\n",
       "      <th>3</th>\n",
       "      <td>Berkeley</td>\n",
       "      <td>University</td>\n",
       "    </tr>\n",
       "    <tr>\n",
       "      <th>4</th>\n",
       "      <td>Bowdoin</td>\n",
       "      <td>Lib Arts</td>\n",
       "    </tr>\n",
       "    <tr>\n",
       "      <th>5</th>\n",
       "      <td>Brown</td>\n",
       "      <td>University</td>\n",
       "    </tr>\n",
       "    <tr>\n",
       "      <th>6</th>\n",
       "      <td>Bryn Mawr</td>\n",
       "      <td>Lib Arts</td>\n",
       "    </tr>\n",
       "    <tr>\n",
       "      <th>7</th>\n",
       "      <td>Cal Tech</td>\n",
       "      <td>University</td>\n",
       "    </tr>\n",
       "    <tr>\n",
       "      <th>8</th>\n",
       "      <td>Carleton</td>\n",
       "      <td>Lib Arts</td>\n",
       "    </tr>\n",
       "    <tr>\n",
       "      <th>9</th>\n",
       "      <td>Carnegie Mellon</td>\n",
       "      <td>University</td>\n",
       "    </tr>\n",
       "  </tbody>\n",
       "</table>\n",
       "</div>"
      ],
      "text/plain": [
       "            School        Type\n",
       "0          Amherst    Lib Arts\n",
       "1          Barnard    Lib Arts\n",
       "2            Bates    Lib Arts\n",
       "3         Berkeley  University\n",
       "4          Bowdoin    Lib Arts\n",
       "5            Brown  University\n",
       "6        Bryn Mawr    Lib Arts\n",
       "7         Cal Tech  University\n",
       "8         Carleton    Lib Arts\n",
       "9  Carnegie Mellon  University"
      ]
     },
     "execution_count": 29,
     "metadata": {},
     "output_type": "execute_result"
    }
   ],
   "source": [
    "categorical_data.head(10)"
   ]
  },
  {
   "cell_type": "code",
   "execution_count": 30,
   "metadata": {},
   "outputs": [
    {
     "data": {
      "text/plain": [
       "Median SAT               1256.6400\n",
       "Acceptance Rate             0.4056\n",
       "Expenditures/Student    21611.5600\n",
       "Top 10% HS                 67.2400\n",
       "Graduation %               84.1200\n",
       "dtype: float64"
      ]
     },
     "execution_count": 30,
     "metadata": {},
     "output_type": "execute_result"
    }
   ],
   "source": [
    "#comparing the stats of Lib art and University students\n",
    "fig = df2[df2['Type']=='Lib Arts'].mean()\n",
    "fig"
   ]
  },
  {
   "cell_type": "code",
   "execution_count": 31,
   "metadata": {},
   "outputs": [
    {
     "data": {
      "text/plain": [
       "Median SAT               1269.833333\n",
       "Acceptance Rate             0.355417\n",
       "Expenditures/Student    38861.125000\n",
       "Top 10% HS                 81.458333\n",
       "Graduation %               82.333333\n",
       "dtype: float64"
      ]
     },
     "execution_count": 31,
     "metadata": {},
     "output_type": "execute_result"
    }
   ],
   "source": [
    "df2[df2['Type']=='University'].mean()"
   ]
  },
  {
   "cell_type": "code",
   "execution_count": 32,
   "metadata": {},
   "outputs": [],
   "source": [
    "#it shows that the acceptance rate is high for lib students\n",
    "#expenditures are more for research students\n",
    "#research students have better overall grades than lib studnets"
   ]
  },
  {
   "cell_type": "code",
   "execution_count": 33,
   "metadata": {},
   "outputs": [
    {
     "data": {
      "text/html": [
       "<div>\n",
       "<style scoped>\n",
       "    .dataframe tbody tr th:only-of-type {\n",
       "        vertical-align: middle;\n",
       "    }\n",
       "\n",
       "    .dataframe tbody tr th {\n",
       "        vertical-align: top;\n",
       "    }\n",
       "\n",
       "    .dataframe thead th {\n",
       "        text-align: right;\n",
       "    }\n",
       "</style>\n",
       "<table border=\"1\" class=\"dataframe\">\n",
       "  <thead>\n",
       "    <tr style=\"text-align: right;\">\n",
       "      <th></th>\n",
       "      <th>ID</th>\n",
       "      <th>Product Category</th>\n",
       "      <th>Product Name</th>\n",
       "      <th>Purchase Cost</th>\n",
       "      <th>Selling Price</th>\n",
       "      <th>Supplier</th>\n",
       "      <th>Quantity on Hand</th>\n",
       "    </tr>\n",
       "  </thead>\n",
       "  <tbody>\n",
       "    <tr>\n",
       "      <th>0</th>\n",
       "      <td>1</td>\n",
       "      <td>Leisure</td>\n",
       "      <td>Blue Moon</td>\n",
       "      <td>75.29</td>\n",
       "      <td>105.41</td>\n",
       "      <td>Simpson's Bike Supply</td>\n",
       "      <td>4</td>\n",
       "    </tr>\n",
       "    <tr>\n",
       "      <th>1</th>\n",
       "      <td>2</td>\n",
       "      <td>Mtn.</td>\n",
       "      <td>Bluff Breaker</td>\n",
       "      <td>375.00</td>\n",
       "      <td>495.00</td>\n",
       "      <td>The Bike Path</td>\n",
       "      <td>3</td>\n",
       "    </tr>\n",
       "    <tr>\n",
       "      <th>2</th>\n",
       "      <td>3</td>\n",
       "      <td>Leisure</td>\n",
       "      <td>Breeze</td>\n",
       "      <td>89.95</td>\n",
       "      <td>130.95</td>\n",
       "      <td>The Bike Path</td>\n",
       "      <td>4</td>\n",
       "    </tr>\n",
       "    <tr>\n",
       "      <th>3</th>\n",
       "      <td>4</td>\n",
       "      <td>Leisure</td>\n",
       "      <td>Breeze LE</td>\n",
       "      <td>109.95</td>\n",
       "      <td>149.95</td>\n",
       "      <td>The Bike Path</td>\n",
       "      <td>5</td>\n",
       "    </tr>\n",
       "    <tr>\n",
       "      <th>4</th>\n",
       "      <td>5</td>\n",
       "      <td>Road</td>\n",
       "      <td>Classic 109</td>\n",
       "      <td>207.49</td>\n",
       "      <td>290.49</td>\n",
       "      <td>Bicyclist's Choice</td>\n",
       "      <td>7</td>\n",
       "    </tr>\n",
       "    <tr>\n",
       "      <th>5</th>\n",
       "      <td>6</td>\n",
       "      <td>Children</td>\n",
       "      <td>Coolest 100</td>\n",
       "      <td>69.99</td>\n",
       "      <td>97.98</td>\n",
       "      <td>Bicyclist's Choice</td>\n",
       "      <td>6</td>\n",
       "    </tr>\n",
       "    <tr>\n",
       "      <th>6</th>\n",
       "      <td>7</td>\n",
       "      <td>Mtn.</td>\n",
       "      <td>Eagle 1</td>\n",
       "      <td>410.01</td>\n",
       "      <td>574.01</td>\n",
       "      <td>Bike-One</td>\n",
       "      <td>1</td>\n",
       "    </tr>\n",
       "    <tr>\n",
       "      <th>7</th>\n",
       "      <td>8</td>\n",
       "      <td>Mtn.</td>\n",
       "      <td>Eagle 2</td>\n",
       "      <td>401.11</td>\n",
       "      <td>561.54</td>\n",
       "      <td>Bike-One</td>\n",
       "      <td>2</td>\n",
       "    </tr>\n",
       "    <tr>\n",
       "      <th>8</th>\n",
       "      <td>9</td>\n",
       "      <td>Mtn.</td>\n",
       "      <td>Eagle 3</td>\n",
       "      <td>350.52</td>\n",
       "      <td>490.73</td>\n",
       "      <td>Bike-One</td>\n",
       "      <td>5</td>\n",
       "    </tr>\n",
       "    <tr>\n",
       "      <th>9</th>\n",
       "      <td>10</td>\n",
       "      <td>Hybrid</td>\n",
       "      <td>Eagle 7</td>\n",
       "      <td>150.89</td>\n",
       "      <td>211.46</td>\n",
       "      <td>Bike-One</td>\n",
       "      <td>9</td>\n",
       "    </tr>\n",
       "  </tbody>\n",
       "</table>\n",
       "</div>"
      ],
      "text/plain": [
       "   ID Product Category   Product Name  Purchase Cost  Selling Price  \\\n",
       "0   1          Leisure      Blue Moon          75.29         105.41   \n",
       "1   2             Mtn.  Bluff Breaker         375.00         495.00   \n",
       "2   3          Leisure         Breeze          89.95         130.95   \n",
       "3   4          Leisure      Breeze LE         109.95         149.95   \n",
       "4   5             Road    Classic 109         207.49         290.49   \n",
       "5   6         Children    Coolest 100          69.99          97.98   \n",
       "6   7             Mtn.        Eagle 1         410.01         574.01   \n",
       "7   8             Mtn.        Eagle 2         401.11         561.54   \n",
       "8   9             Mtn.        Eagle 3         350.52         490.73   \n",
       "9  10           Hybrid        Eagle 7         150.89         211.46   \n",
       "\n",
       "               Supplier   Quantity on Hand  \n",
       "0  Simpson's Bike Supply                 4  \n",
       "1          The Bike Path                 3  \n",
       "2          The Bike Path                 4  \n",
       "3          The Bike Path                 5  \n",
       "4     Bicyclist's Choice                 7  \n",
       "5     Bicyclist's Choice                 6  \n",
       "6               Bike-One                 1  \n",
       "7               Bike-One                 2  \n",
       "8               Bike-One                 5  \n",
       "9               Bike-One                 9  "
      ]
     },
     "execution_count": 33,
     "metadata": {},
     "output_type": "execute_result"
    }
   ],
   "source": [
    "df3 = pd.read_excel('Bicycle Inventory.xlsx')\n",
    "df3.head(10)"
   ]
  },
  {
   "cell_type": "code",
   "execution_count": 34,
   "metadata": {},
   "outputs": [
    {
     "data": {
      "text/plain": [
       "10"
      ]
     },
     "execution_count": 34,
     "metadata": {},
     "output_type": "execute_result"
    }
   ],
   "source": [
    "np.sum(df3['Selling Price'] < 200)"
   ]
  },
  {
   "cell_type": "code",
   "execution_count": 35,
   "metadata": {},
   "outputs": [
    {
     "data": {
      "text/plain": [
       "24"
      ]
     },
     "execution_count": 35,
     "metadata": {},
     "output_type": "execute_result"
    }
   ],
   "source": [
    "df3['Selling Price'].count()"
   ]
  },
  {
   "cell_type": "code",
   "execution_count": 36,
   "metadata": {},
   "outputs": [
    {
     "name": "stdout",
     "output_type": "stream",
     "text": [
      "the proportion of bicycles that sell for less than $200 is 0.4166666666666667\n"
     ]
    }
   ],
   "source": [
    "print('the proportion of bicycles that sell for less than $200 is',np.sum(df3['Selling Price'] < 200)/df3['Selling Price'].count())"
   ]
  },
  {
   "cell_type": "code",
   "execution_count": 37,
   "metadata": {},
   "outputs": [
    {
     "data": {
      "text/html": [
       "<div>\n",
       "<style scoped>\n",
       "    .dataframe tbody tr th:only-of-type {\n",
       "        vertical-align: middle;\n",
       "    }\n",
       "\n",
       "    .dataframe tbody tr th {\n",
       "        vertical-align: top;\n",
       "    }\n",
       "\n",
       "    .dataframe thead th {\n",
       "        text-align: right;\n",
       "    }\n",
       "</style>\n",
       "<table border=\"1\" class=\"dataframe\">\n",
       "  <thead>\n",
       "    <tr style=\"text-align: right;\">\n",
       "      <th></th>\n",
       "      <th>Gender</th>\n",
       "      <th>Starting Age</th>\n",
       "      <th>Prior Call Center Experience</th>\n",
       "      <th>College Degree</th>\n",
       "      <th>Length of Service (years)</th>\n",
       "    </tr>\n",
       "  </thead>\n",
       "  <tbody>\n",
       "    <tr>\n",
       "      <th>0</th>\n",
       "      <td>0</td>\n",
       "      <td>18</td>\n",
       "      <td>0</td>\n",
       "      <td>0</td>\n",
       "      <td>7.021918</td>\n",
       "    </tr>\n",
       "    <tr>\n",
       "      <th>1</th>\n",
       "      <td>1</td>\n",
       "      <td>18</td>\n",
       "      <td>1</td>\n",
       "      <td>0</td>\n",
       "      <td>3.465753</td>\n",
       "    </tr>\n",
       "    <tr>\n",
       "      <th>2</th>\n",
       "      <td>0</td>\n",
       "      <td>19</td>\n",
       "      <td>0</td>\n",
       "      <td>0</td>\n",
       "      <td>2.073973</td>\n",
       "    </tr>\n",
       "    <tr>\n",
       "      <th>3</th>\n",
       "      <td>0</td>\n",
       "      <td>19</td>\n",
       "      <td>0</td>\n",
       "      <td>0</td>\n",
       "      <td>1.775342</td>\n",
       "    </tr>\n",
       "    <tr>\n",
       "      <th>4</th>\n",
       "      <td>0</td>\n",
       "      <td>19</td>\n",
       "      <td>0</td>\n",
       "      <td>0</td>\n",
       "      <td>4.424658</td>\n",
       "    </tr>\n",
       "    <tr>\n",
       "      <th>5</th>\n",
       "      <td>0</td>\n",
       "      <td>19</td>\n",
       "      <td>0</td>\n",
       "      <td>0</td>\n",
       "      <td>3.293151</td>\n",
       "    </tr>\n",
       "    <tr>\n",
       "      <th>6</th>\n",
       "      <td>0</td>\n",
       "      <td>19</td>\n",
       "      <td>1</td>\n",
       "      <td>0</td>\n",
       "      <td>3.049315</td>\n",
       "    </tr>\n",
       "    <tr>\n",
       "      <th>7</th>\n",
       "      <td>1</td>\n",
       "      <td>19</td>\n",
       "      <td>1</td>\n",
       "      <td>0</td>\n",
       "      <td>0.487671</td>\n",
       "    </tr>\n",
       "    <tr>\n",
       "      <th>8</th>\n",
       "      <td>1</td>\n",
       "      <td>19</td>\n",
       "      <td>1</td>\n",
       "      <td>0</td>\n",
       "      <td>0.605479</td>\n",
       "    </tr>\n",
       "    <tr>\n",
       "      <th>9</th>\n",
       "      <td>1</td>\n",
       "      <td>19</td>\n",
       "      <td>0</td>\n",
       "      <td>0</td>\n",
       "      <td>3.120548</td>\n",
       "    </tr>\n",
       "  </tbody>\n",
       "</table>\n",
       "</div>"
      ],
      "text/plain": [
       "   Gender  Starting Age  Prior Call Center Experience  College Degree  \\\n",
       "0       0            18                             0               0   \n",
       "1       1            18                             1               0   \n",
       "2       0            19                             0               0   \n",
       "3       0            19                             0               0   \n",
       "4       0            19                             0               0   \n",
       "5       0            19                             0               0   \n",
       "6       0            19                             1               0   \n",
       "7       1            19                             1               0   \n",
       "8       1            19                             1               0   \n",
       "9       1            19                             0               0   \n",
       "\n",
       "   Length of Service (years)  \n",
       "0                   7.021918  \n",
       "1                   3.465753  \n",
       "2                   2.073973  \n",
       "3                   1.775342  \n",
       "4                   4.424658  \n",
       "5                   3.293151  \n",
       "6                   3.049315  \n",
       "7                   0.487671  \n",
       "8                   0.605479  \n",
       "9                   3.120548  "
      ]
     },
     "execution_count": 37,
     "metadata": {},
     "output_type": "execute_result"
    }
   ],
   "source": [
    "df4 = pd.read_excel('Call Center Data.xlsx')\n",
    "df4.head(10)\n",
    "#male=1,Female=0\n",
    "#yes=1,no=0"
   ]
  },
  {
   "cell_type": "code",
   "execution_count": 38,
   "metadata": {},
   "outputs": [
    {
     "name": "stdout",
     "output_type": "stream",
     "text": [
      "The correaltion between the to columns is: -0.607834519227291\n"
     ]
    }
   ],
   "source": [
    "print('The correaltion between the to columns is:',df4['Length of Service (years)'].corr(df4['Starting Age']))\n",
    "#hence there is a negative correlation b/w the columns"
   ]
  },
  {
   "cell_type": "code",
   "execution_count": 39,
   "metadata": {},
   "outputs": [
    {
     "data": {
      "text/plain": [
       "(0     7.021918\n",
       " 1     3.465753\n",
       " 2     2.073973\n",
       " 3     1.775342\n",
       " 4     4.424658\n",
       "         ...   \n",
       " 65    0.994521\n",
       " 66    0.764384\n",
       " 67    0.320548\n",
       " 68    0.345205\n",
       " 69    0.572603\n",
       " Name: Length of Service (years), Length: 70, dtype: float64,\n",
       " 0     18\n",
       " 1     18\n",
       " 2     19\n",
       " 3     19\n",
       " 4     19\n",
       "       ..\n",
       " 65    43\n",
       " 66    43\n",
       " 67    45\n",
       " 68    47\n",
       " 69    50\n",
       " Name: Starting Age, Length: 70, dtype: int64)"
      ]
     },
     "execution_count": 39,
     "metadata": {},
     "output_type": "execute_result"
    }
   ],
   "source": [
    "x = df4['Length of Service (years)']\n",
    "y = df4['Starting Age']\n",
    "x,y"
   ]
  },
  {
   "cell_type": "code",
   "execution_count": 52,
   "metadata": {},
   "outputs": [
    {
     "data": {
      "image/png": "[encoded data removed]",
      "text/plain": [
       "<Figure size 432x288 with 1 Axes>"
      ]
     },
     "metadata": {
      "needs_background": "light"
     },
     "output_type": "display_data"
    }
   ],
   "source": [
    "plt.scatter(x,y)\n",
    "plt.title('A plot to show the correlation between LOS and Starting Age')\n",
    "plt.xlabel('Length of Service (years)')\n",
    "plt.ylabel('Starting Age')\n",
    "plt.show()"
   ]
  },
  {
   "cell_type": "code",
   "execution_count": 53,
   "metadata": {},
   "outputs": [
    {
     "data": {
      "text/html": [
       "<div>\n",
       "<style scoped>\n",
       "    .dataframe tbody tr th:only-of-type {\n",
       "        vertical-align: middle;\n",
       "    }\n",
       "\n",
       "    .dataframe tbody tr th {\n",
       "        vertical-align: top;\n",
       "    }\n",
       "\n",
       "    .dataframe thead th {\n",
       "        text-align: right;\n",
       "    }\n",
       "</style>\n",
       "<table border=\"1\" class=\"dataframe\">\n",
       "  <thead>\n",
       "    <tr style=\"text-align: right;\">\n",
       "      <th></th>\n",
       "      <th>Times (sec.)</th>\n",
       "    </tr>\n",
       "  </thead>\n",
       "  <tbody>\n",
       "    <tr>\n",
       "      <th>0</th>\n",
       "      <td>26</td>\n",
       "    </tr>\n",
       "    <tr>\n",
       "      <th>1</th>\n",
       "      <td>358</td>\n",
       "    </tr>\n",
       "    <tr>\n",
       "      <th>2</th>\n",
       "      <td>218</td>\n",
       "    </tr>\n",
       "    <tr>\n",
       "      <th>3</th>\n",
       "      <td>71</td>\n",
       "    </tr>\n",
       "    <tr>\n",
       "      <th>4</th>\n",
       "      <td>190</td>\n",
       "    </tr>\n",
       "    <tr>\n",
       "      <th>5</th>\n",
       "      <td>36</td>\n",
       "    </tr>\n",
       "    <tr>\n",
       "      <th>6</th>\n",
       "      <td>45</td>\n",
       "    </tr>\n",
       "    <tr>\n",
       "      <th>7</th>\n",
       "      <td>68</td>\n",
       "    </tr>\n",
       "    <tr>\n",
       "      <th>8</th>\n",
       "      <td>45</td>\n",
       "    </tr>\n",
       "    <tr>\n",
       "      <th>9</th>\n",
       "      <td>66</td>\n",
       "    </tr>\n",
       "  </tbody>\n",
       "</table>\n",
       "</div>"
      ],
      "text/plain": [
       "   Times (sec.)\n",
       "0            26\n",
       "1           358\n",
       "2           218\n",
       "3            71\n",
       "4           190\n",
       "5            36\n",
       "6            45\n",
       "7            68\n",
       "8            45\n",
       "9            66"
      ]
     },
     "execution_count": 53,
     "metadata": {},
     "output_type": "execute_result"
    }
   ],
   "source": [
    "df5 = pd.read_excel('Airport Service Times.xlsx')\n",
    "df5.head(10)"
   ]
  },
  {
   "cell_type": "code",
   "execution_count": 54,
   "metadata": {},
   "outputs": [],
   "source": [
    "df5.rename(columns={'Times (sec.)':'Time'}, inplace=True)"
   ]
  },
  {
   "cell_type": "code",
   "execution_count": 55,
   "metadata": {},
   "outputs": [
    {
     "name": "stdout",
     "output_type": "stream",
     "text": [
      "[-9.53952240e-01  2.20437877e+00  8.72552439e-01 -5.25865206e-01\n",
      "  6.06187174e-01 -8.58821788e-01 -7.73204381e-01 -5.54404341e-01\n",
      " -7.73204381e-01 -5.73430432e-01  5.44305517e-02  2.33756140e+00\n",
      " -1.21607647e-02 -1.04908269e+00 -8.49308743e-01 -9.77781715e-02\n",
      "  1.78100139e-01  3.20795817e-01  1.42430906e+00  5.44305517e-02\n",
      " -2.16738099e-02  5.11056722e-01 -1.45343398e-01 -6.92390359e-02\n",
      " -4.87813025e-01  3.58847998e-01 -8.30282652e-01  5.43881414e+00\n",
      " -7.63691336e-01  4.34952360e-01  2.35178411e-01 -4.11708663e-01\n",
      "  3.77874089e-01 -4.59273889e-01 -5.54404341e-01  3.57425728e+00\n",
      " -4.11708663e-01  1.21021868e-01 -1.02054356e+00 -7.82717426e-01\n",
      " -8.82651263e-02 -8.39795697e-01  4.73004541e-01  1.63783709e-02\n",
      " -1.03005660e+00  2.86077889e+00 -5.16352161e-01  1.78100139e-01\n",
      "  5.58621948e-01 -4.97326070e-01  1.01995778e-01 -9.15900059e-01\n",
      " -7.92230471e-01 -5.35378251e-01  1.01524812e+00  5.58621948e-01\n",
      "  1.63783709e-02 -1.26317307e-01 -4.49760844e-01  5.30082812e-01\n",
      " -4.11708663e-01 -4.30734754e-01 -3.73656482e-01 -6.20995658e-01\n",
      " -2.02421669e-01 -5.73430432e-01 -7.63691336e-01  1.21021868e-01\n",
      "  1.40047959e-01 -4.59273889e-01  1.31966556e+00 -5.73430432e-01\n",
      "  6.44239354e-01 -3.16578211e-01 -4.21221708e-01  2.82743637e-01\n",
      " -1.07291217e-01 -7.25639155e-01  1.29112643e+00  3.54044613e-02\n",
      " -5.06839115e-01 -4.21221708e-01 -1.83395578e-01 -4.11708663e-01\n",
      " -5.92456522e-01  2.82743637e-01 -4.30734754e-01  7.39369806e-01\n",
      " -4.78299980e-01  2.06639275e-01  2.85126584e+00 -2.30960804e-01\n",
      " -5.82943477e-01  4.49175065e-02  3.72646600e+00  1.92850046e+00\n",
      "  5.59102286e+00  7.29856761e-01 -1.06810878e+00  4.49175065e-02\n",
      "  2.74662234e+00  1.89044828e+00 -6.49534793e-01 -5.54404341e-01\n",
      " -6.11482613e-01  1.68116128e+00  1.78580478e+00 -8.20769607e-01\n",
      " -1.11567401e+00 -1.03005660e+00 -9.15900059e-01 -2.97552121e-01\n",
      "  1.79531782e+00  1.40047959e-01 -9.53952240e-01  5.96674128e-01\n",
      " -7.92230471e-01  5.44305517e-02 -1.02054356e+00 -9.25413104e-01\n",
      "  1.39576993e+00  3.87387134e-01 -2.69012985e-01 -2.69012985e-01\n",
      " -3.26091256e-01 -8.58821788e-01 -5.92456522e-01 -4.30734754e-01\n",
      " -5.63917387e-01 -7.06613065e-01 -7.54178291e-01  3.49334953e-01\n",
      " -6.20995658e-01 -3.64143437e-01  5.30082812e-01  2.16152320e-01\n",
      " -4.11708663e-01 -1.03956965e+00 -3.92682573e-01  3.23178765e+00\n",
      "  1.21021868e-01 -3.73656482e-01 -9.77781715e-02 -2.78526030e-01\n",
      " -2.69012985e-01 -1.05859574e+00 -4.68786934e-01 -2.78526030e-01\n",
      "  7.39369806e-01 -1.02054356e+00 -5.54404341e-01  6.53752400e-01\n",
      " -6.20995658e-01  1.20550902e+00  4.09747476e+00 -3.07065166e-01\n",
      " -5.73430432e-01 -1.10616096e+00  2.16152320e-01 -3.54630392e-01\n",
      "  1.20550902e+00  5.96674128e-01 -1.01103051e+00 -4.87813025e-01\n",
      " -2.30960804e-01 -7.63691336e-01 -6.30508703e-01  1.43382211e+00\n",
      " -5.82943477e-01  4.06413224e-01 -4.06999003e-02  5.68134993e-01\n",
      " -3.73656482e-01 -9.72978330e-01  6.72778490e-01 -6.40021748e-01\n",
      "  7.29856761e-01 -3.83169528e-01  5.44305517e-02  1.75726564e+00\n",
      "  4.63491496e-01 -5.44891296e-01  6.15700219e-01  1.15794380e+00\n",
      " -5.63917387e-01  2.19486572e+00  9.24827326e-02 -7.35152200e-01\n",
      "  1.79531782e+00 -8.11256562e-01  1.40047959e-01 -2.88039076e-01\n",
      " -1.08713487e+00 -1.45343398e-01 -9.15900059e-01 -7.87520811e-02\n",
      " -6.59047839e-01 -5.73430432e-01 -4.97326070e-01 -4.49760844e-01\n",
      " -5.73430432e-01 -6.01969567e-01  1.31966556e+00  3.11282772e-01\n",
      " -4.59273889e-01 -5.73430432e-01 -3.07065166e-01 -5.44891296e-01\n",
      " -1.64369488e-01 -6.20995658e-01  3.39821908e-01  6.06187174e-01\n",
      " -8.68334833e-01 -6.97100019e-01 -5.54404341e-01 -2.69012985e-01\n",
      " -8.39795697e-01  7.20343716e-01 -1.05859574e+00 -5.82943477e-01\n",
      " -3.83169528e-01  7.13213618e+00  6.86532573e-03  1.21021868e-01\n",
      " -3.73656482e-01 -5.73430432e-01  1.87613185e-01 -5.73430432e-01\n",
      "  6.72778490e-01  2.82743637e-01 -7.35152200e-01 -7.63691336e-01\n",
      " -5.73430432e-01 -4.87813025e-01 -8.82651263e-02 -7.54178291e-01\n",
      " -5.82943477e-01  5.96674128e-01  1.34820470e+00 -8.20769607e-01\n",
      " -3.64143437e-01 -5.35378251e-01 -5.63917387e-01  6.39435970e-02\n",
      " -3.92682573e-01  1.34820470e+00 -8.49308743e-01 -7.35152200e-01\n",
      " -4.97326070e-01  9.20117665e-01 -3.73656482e-01 -6.87586974e-01\n",
      " -6.92390359e-02 -2.78526030e-01  5.68134993e-01  1.59074049e-01\n",
      "  1.97126230e-01  5.77648038e-01  2.73230591e-01 -3.35604302e-01\n",
      " -5.54404341e-01  1.81434391e+00 -4.49760844e-01 -7.54178291e-01\n",
      "  1.12940466e+00 -4.21221708e-01 -6.78073929e-01 -5.35378251e-01\n",
      " -5.82943477e-01 -5.92456522e-01 -5.63917387e-01  3.07957893e+00\n",
      "  1.87142219e+00  1.16745684e+00  4.44465405e-01 -3.45117347e-01\n",
      "  7.77421987e-01 -4.68786934e-01 -8.11256562e-01  2.06639275e-01\n",
      "  1.38625688e+00 -4.78299980e-01  2.32804836e+00 -6.78073929e-01\n",
      " -9.06387014e-01 -5.44891296e-01  6.34726309e-01  9.24827326e-02\n",
      "  1.59074049e-01 -5.16352161e-01  1.59074049e-01  1.22453511e+00\n",
      " -4.49760844e-01 -2.49986895e-01 -7.16126110e-01 -5.16352161e-01\n",
      "  2.51830926e+00 -9.44439195e-01 -6.01969567e-01  1.59074049e-01\n",
      " -5.63917387e-01 -5.16352161e-01  8.29696874e-02 -1.11567401e+00\n",
      " -4.78299980e-01  3.77874089e-01  1.96655264e+00 -4.40247799e-01\n",
      " -1.16804262e-01 -4.49760844e-01  2.52782230e+00  2.87980498e+00\n",
      " -1.64369488e-01 -5.73430432e-01 -5.63917387e-01  4.53978450e-01\n",
      " -1.35830352e-01 -7.87520811e-02 -4.11708663e-01  7.29856761e-01\n",
      "  1.97126230e-01  4.63971834e+00  1.63783709e-02 -3.64143437e-01\n",
      " -4.06999003e-02  7.01317626e-01 -9.15900059e-01  2.37561358e+00\n",
      "  2.54204501e-01  9.58169846e-01  1.01524812e+00 -1.92908624e-01\n",
      "  2.58914161e-02  3.18422242e+00  1.79531782e+00  3.58847998e-01\n",
      "  1.49561004e-01 -5.06839115e-01 -2.88039076e-01 -9.63465285e-01\n",
      " -3.73656482e-01  1.70018737e+00 -6.97100019e-01 -6.30508703e-01\n",
      " -6.11482613e-01 -4.97326070e-01 -4.21221708e-01 -4.11708663e-01\n",
      "  7.58395897e-01  8.91578530e-01  4.53978450e-01  1.46236124e+00\n",
      " -7.87520811e-02 -1.04908269e+00  1.11508823e-01 -6.20995658e-01\n",
      " -3.54630392e-01 -9.82491376e-01 -4.59273889e-01 -6.20995658e-01\n",
      " -6.97100019e-01  1.02476116e+00 -1.45343398e-01 -8.49308743e-01\n",
      " -8.39795697e-01 -5.35378251e-01 -1.35830352e-01 -7.06613065e-01\n",
      "  2.12827441e+00  1.60505692e+00 -4.59273889e-01 -5.44891296e-01\n",
      " -1.00151747e+00 -4.02195618e-01 -9.77781715e-02  7.34566422e-02\n",
      " -6.87586974e-01 -4.21221708e-01 -5.35378251e-01 -6.59047839e-01\n",
      "  8.05961123e-01 -2.16738099e-02 -7.82717426e-01 -3.64143437e-01\n",
      " -8.82651263e-02  1.17696989e+00 -3.54630392e-01 -6.59047839e-01\n",
      " -2.69012985e-01  5.30082812e-01 -1.21607647e-02  1.63783709e-02\n",
      "  1.60505692e+00 -3.64143437e-01 -6.30508703e-01 -4.02195618e-01\n",
      "  7.86935032e-01 -7.92230471e-01 -9.06387014e-01 -1.73882533e-01\n",
      " -5.82943477e-01  5.14390974e+00 -9.34926149e-01 -9.82491376e-01\n",
      " -7.06613065e-01 -5.44891296e-01  2.66100494e+00 -9.82491376e-01\n",
      " -4.68786934e-01 -4.30734754e-01 -6.11482613e-01 -3.16578211e-01\n",
      "  7.10830671e-01 -8.30282652e-01  7.34566422e-02 -5.44891296e-01\n",
      "  7.10830671e-01  1.80483087e+00 -1.03005660e+00 -7.63691336e-01\n",
      " -5.25865206e-01 -7.16126110e-01 -8.87360923e-01  1.68587094e-01\n",
      "  1.21021868e-01 -6.87586974e-01 -4.11708663e-01 -5.35378251e-01\n",
      " -7.44665245e-01  3.01769727e-01 -4.68786934e-01 -8.87360923e-01\n",
      "  1.27210034e+00 -7.73204381e-01  1.05330030e+00 -3.73656482e-01\n",
      " -5.16352161e-01 -8.20769607e-01 -9.72978330e-01  6.53752400e-01\n",
      "  6.15700219e-01 -2.59499940e-01 -7.87520811e-02 -4.40247799e-01\n",
      "  1.04378725e+00 -1.92908624e-01 -7.44665245e-01  7.86935032e-01\n",
      "  1.84288305e+00 -2.59499940e-01 -8.68334833e-01  8.53526349e-01\n",
      " -5.54404341e-01 -8.20769607e-01 -5.35378251e-01  1.63783709e-02\n",
      "  1.11508823e-01 -7.82717426e-01 -3.54630392e-01 -7.87520811e-02\n",
      "  1.57651778e+00  3.31740506e+00  8.44013304e-01  2.16152320e-01\n",
      "  9.29630711e-01 -6.20995658e-01 -6.11482613e-01 -5.82943477e-01\n",
      " -6.11482613e-01 -1.73882533e-01  1.54797865e+00 -8.68334833e-01\n",
      " -5.16352161e-01 -3.83169528e-01 -3.07065166e-01  7.34566422e-02\n",
      " -7.73204381e-01 -6.78073929e-01 -9.25413104e-01  1.34820470e+00\n",
      " -9.06387014e-01  1.00573507e+00 -5.92456522e-01  7.48882852e-01\n",
      "  1.01995778e-01 -1.04908269e+00  2.84175280e+00  3.01769727e-01\n",
      "  3.11282772e-01 -4.97326070e-01 -6.20995658e-01  2.40415272e+00\n",
      "  1.97126230e-01 -6.30508703e-01 -6.11482613e-01 -8.20769607e-01\n",
      "  1.15794380e+00  1.78100139e-01  4.73004541e-01  1.40047959e-01\n",
      " -1.35830352e-01  2.31853531e+00 -5.92456522e-01  1.01995778e-01\n",
      "  1.48138733e+00 -9.77781715e-02 -3.83169528e-01 -9.34926149e-01\n",
      " -5.44891296e-01 -4.87813025e-01 -5.25865206e-01 -3.16578211e-01\n",
      " -8.01743517e-01  1.49561004e-01  5.58621948e-01 -7.16126110e-01\n",
      "  1.87613185e-01  1.20550902e+00 -5.73430432e-01  1.92850046e+00\n",
      " -3.92682573e-01  9.96222027e-01 -6.11482613e-01  1.78100139e-01\n",
      " -1.00151747e+00 -6.01969567e-01 -3.64143437e-01 -4.30734754e-01\n",
      " -2.21447759e-01 -4.97326070e-01 -5.06839115e-01 -4.49760844e-01\n",
      "  7.01317626e-01 -8.58821788e-01 -4.11708663e-01  8.15474168e-01\n",
      "  6.72778490e-01 -5.35378251e-01  1.31015252e+00 -2.21447759e-01\n",
      " -3.92682573e-01  8.44013304e-01  4.63491496e-01 -9.25413104e-01\n",
      "  6.91804580e-01 -9.77781715e-02 -5.54404341e-01  4.73004541e-01\n",
      " -2.97552121e-01  3.68361043e-01 -5.35378251e-01 -5.82943477e-01\n",
      "  5.44305517e-02 -6.30508703e-01 -6.11482613e-01  8.15474168e-01\n",
      " -3.54630392e-01  2.25665365e-01 -1.01103051e+00 -5.44891296e-01\n",
      "  1.30534913e-01 -9.06387014e-01 -6.68560884e-01 -9.53952240e-01\n",
      " -4.21221708e-01 -1.02054356e+00 -5.54404341e-01 -9.77781715e-02\n",
      " -4.78299980e-01 -4.68786934e-01 -6.49534793e-01 -4.21221708e-01\n",
      " -3.11868551e-02 -8.20769607e-01 -8.39795697e-01 -4.02195618e-01\n",
      "  5.48637936e+00  1.31015252e+00  5.20569767e-01  1.39576993e+00\n",
      " -9.82491376e-01 -6.01969567e-01 -4.11708663e-01 -2.88039076e-01\n",
      " -4.11708663e-01 -3.64143437e-01  6.06187174e-01 -1.05859574e+00\n",
      " -4.78299980e-01  2.06639275e-01  6.39435970e-02  2.06639275e-01\n",
      " -8.87360923e-01  1.78100139e-01 -5.73430432e-01 -5.16352161e-01\n",
      " -5.63917387e-01 -5.82943477e-01 -6.01969567e-01  6.91804580e-01\n",
      " -4.40247799e-01  3.39821908e-01 -2.16738099e-02 -4.02195618e-01\n",
      "  1.11508823e-01  2.44691456e-01  6.34726309e-01  7.34566422e-02\n",
      "  1.11508823e-01 -8.68334833e-01 -2.49986895e-01  4.59215311e+00\n",
      " -5.82943477e-01 -5.02129455e-02 -4.87813025e-01 -9.82491376e-01\n",
      " -2.97552121e-01  1.63783709e-02 -9.72978330e-01 -1.35830352e-01\n",
      " -7.82717426e-01 -9.25413104e-01 -6.01969567e-01 -5.54404341e-01\n",
      "  1.01995778e-01  1.67164824e+00 -6.20995658e-01 -6.78073929e-01\n",
      " -1.05859574e+00 -2.16738099e-02 -4.30734754e-01 -9.34926149e-01\n",
      " -4.87813025e-01  1.61456997e+00  3.68361043e-01  1.28161338e+00\n",
      " -3.83169528e-01 -2.11934714e-01  2.54204501e-01 -7.82717426e-01\n",
      " -1.04908269e+00  1.21021868e-01  4.63491496e-01 -7.44665245e-01\n",
      " -1.02054356e+00 -5.35378251e-01 -4.30734754e-01 -2.59499940e-01\n",
      "  1.81434391e+00 -1.54856443e-01 -6.20995658e-01 -4.97326070e-01\n",
      " -7.16126110e-01  2.41366576e+00 -7.82717426e-01 -6.68560884e-01\n",
      " -4.21221708e-01 -3.16578211e-01  1.78100139e-01 -1.02054356e+00\n",
      " -4.78299980e-01  7.58395897e-01 -6.97100019e-01 -1.92908624e-01\n",
      " -5.54404341e-01 -7.25639155e-01 -9.25413104e-01  5.39595857e-01\n",
      " -5.73430432e-01  8.72552439e-01 -3.64143437e-01  1.11037857e+00\n",
      "  1.79531782e+00 -5.35378251e-01 -7.06613065e-01 -3.83169528e-01\n",
      "  1.06281334e+00 -5.54404341e-01 -4.02195618e-01 -7.54178291e-01\n",
      "  6.72778490e-01 -3.54630392e-01  3.87387134e-01 -6.92390359e-02\n",
      " -5.82943477e-01 -5.97259907e-02 -8.01743517e-01 -6.30508703e-01\n",
      " -2.11934714e-01 -4.02195618e-01 -4.02195618e-01 -1.07291217e-01\n",
      " -3.92682573e-01  1.53846560e+00 -4.11708663e-01 -4.11708663e-01\n",
      " -1.73882533e-01 -6.01969567e-01 -3.54630392e-01 -4.30734754e-01\n",
      "  6.72778490e-01 -5.25865206e-01  1.33869165e+00  2.73230591e-01\n",
      " -1.01103051e+00 -3.11868551e-02 -7.92230471e-01  1.78580478e+00\n",
      " -8.11256562e-01  5.30082812e-01 -8.49308743e-01 -4.59273889e-01\n",
      " -9.92004421e-01 -3.35604302e-01  6.25213264e-01  5.44305517e-02\n",
      " -9.82491376e-01  2.45171794e+00  1.41479602e+00 -1.10616096e+00\n",
      " -4.11708663e-01 -3.11868551e-02 -2.88039076e-01 -4.11708663e-01\n",
      "  4.92030631e-01 -6.01969567e-01 -5.82943477e-01 -1.02054356e+00\n",
      " -5.44891296e-01  1.68587094e-01 -4.97326070e-01 -8.30282652e-01\n",
      " -6.30508703e-01 -1.07291217e-01 -2.59499940e-01 -6.78073929e-01\n",
      " -3.73656482e-01 -3.64143437e-01 -9.92004421e-01 -6.11482613e-01\n",
      " -3.54630392e-01 -3.64143437e-01  1.04378725e+00  1.63783709e-02\n",
      "  1.68587094e-01 -9.77781715e-02 -4.02195618e-01  1.17696989e+00\n",
      " -4.21221708e-01 -8.39795697e-01 -4.40247799e-01 -4.30734754e-01\n",
      " -3.92682573e-01 -6.30508703e-01  6.15700219e-01 -1.07291217e-01\n",
      "  6.86532573e-03 -4.21221708e-01 -7.54178291e-01 -1.05859574e+00\n",
      " -5.82943477e-01  5.01543676e-01 -4.87813025e-01 -4.30734754e-01\n",
      " -5.02129455e-02  1.70018737e+00 -5.35378251e-01 -3.11868551e-02\n",
      " -1.54856443e-01  1.11037857e+00 -2.16738099e-02 -5.44891296e-01\n",
      " -6.49534793e-01  7.67908942e-01  1.01995778e-01  2.37561358e+00\n",
      " -4.02195618e-01 -8.96873969e-01 -9.34926149e-01  1.44333515e+00\n",
      "  6.39435970e-02 -4.30734754e-01  3.68361043e-01  1.63359606e+00\n",
      "  3.48863987e+00  1.78100139e-01  1.64310910e+00 -3.11868551e-02\n",
      " -4.11708663e-01 -6.20995658e-01  8.82065485e-01 -1.09664792e+00\n",
      " -4.21221708e-01 -1.45343398e-01 -3.73656482e-01 -5.16352161e-01\n",
      "  1.30534913e-01  1.38625688e+00 -6.11482613e-01  1.18648293e+00\n",
      "  3.77874089e-01 -3.92682573e-01 -2.16738099e-02 -3.35604302e-01\n",
      " -1.11567401e+00 -5.16352161e-01 -5.06839115e-01 -2.11934714e-01\n",
      "  8.91578530e-01 -7.63691336e-01 -8.68334833e-01 -5.44891296e-01]\n"
     ]
    }
   ],
   "source": [
    "print(stats.zscore(df5['Time']))"
   ]
  },
  {
   "cell_type": "code",
   "execution_count": 56,
   "metadata": {},
   "outputs": [
    {
     "name": "stdout",
     "output_type": "stream",
     "text": [
      "105.11881090959412\n"
     ]
    }
   ],
   "source": [
    "print(np.std(df5['Time']))"
   ]
  },
  {
   "cell_type": "code",
   "execution_count": 57,
   "metadata": {},
   "outputs": [
    {
     "name": "stdout",
     "output_type": "stream",
     "text": [
      "126.27832512315271\n"
     ]
    }
   ],
   "source": [
    "print(np.mean(df5['Time']))"
   ]
  },
  {
   "cell_type": "code",
   "execution_count": 58,
   "metadata": {},
   "outputs": [
    {
     "data": {
      "text/plain": [
       "DescribeResult(nobs=812, minmax=(9, 876), mean=126.27832512315271, variance=11063.589517289973, skewness=2.4091165850150986, kurtosis=8.646620866054654)"
      ]
     },
     "execution_count": 58,
     "metadata": {},
     "output_type": "execute_result"
    }
   ],
   "source": [
    "stats.describe(df5['Time'])"
   ]
  },
  {
   "cell_type": "code",
   "execution_count": 59,
   "metadata": {},
   "outputs": [
    {
     "name": "stdout",
     "output_type": "stream",
     "text": [
      "441.82912238978895\n",
      "-189.2724721434835\n"
     ]
    }
   ],
   "source": [
    "#outlier detection\n",
    "#calculating 3 standard deviation\n",
    "upper = df5.Time.mean() + 3*df5.Time.std()\n",
    "lower = df5.Time.mean() -3*df5.Time.std()\n",
    "print(upper)\n",
    "print(lower)"
   ]
  },
  {
   "cell_type": "code",
   "execution_count": 60,
   "metadata": {},
   "outputs": [],
   "source": [
    "#the non outliers\n",
    "new_df= df5[(df5.Time<upper) & (df5.Time>lower)]"
   ]
  },
  {
   "cell_type": "code",
   "execution_count": 61,
   "metadata": {},
   "outputs": [
    {
     "data": {
      "text/html": [
       "<div>\n",
       "<style scoped>\n",
       "    .dataframe tbody tr th:only-of-type {\n",
       "        vertical-align: middle;\n",
       "    }\n",
       "\n",
       "    .dataframe tbody tr th {\n",
       "        vertical-align: top;\n",
       "    }\n",
       "\n",
       "    .dataframe thead th {\n",
       "        text-align: right;\n",
       "    }\n",
       "</style>\n",
       "<table border=\"1\" class=\"dataframe\">\n",
       "  <thead>\n",
       "    <tr style=\"text-align: right;\">\n",
       "      <th></th>\n",
       "      <th>Time</th>\n",
       "    </tr>\n",
       "  </thead>\n",
       "  <tbody>\n",
       "    <tr>\n",
       "      <th>0</th>\n",
       "      <td>26</td>\n",
       "    </tr>\n",
       "    <tr>\n",
       "      <th>1</th>\n",
       "      <td>358</td>\n",
       "    </tr>\n",
       "    <tr>\n",
       "      <th>2</th>\n",
       "      <td>218</td>\n",
       "    </tr>\n",
       "    <tr>\n",
       "      <th>3</th>\n",
       "      <td>71</td>\n",
       "    </tr>\n",
       "    <tr>\n",
       "      <th>4</th>\n",
       "      <td>190</td>\n",
       "    </tr>\n",
       "  </tbody>\n",
       "</table>\n",
       "</div>"
      ],
      "text/plain": [
       "   Time\n",
       "0    26\n",
       "1   358\n",
       "2   218\n",
       "3    71\n",
       "4   190"
      ]
     },
     "execution_count": 61,
     "metadata": {},
     "output_type": "execute_result"
    }
   ],
   "source": [
    "new_df.head()"
   ]
  },
  {
   "cell_type": "code",
   "execution_count": 62,
   "metadata": {},
   "outputs": [
    {
     "data": {
      "text/html": [
       "<div>\n",
       "<style scoped>\n",
       "    .dataframe tbody tr th:only-of-type {\n",
       "        vertical-align: middle;\n",
       "    }\n",
       "\n",
       "    .dataframe tbody tr th {\n",
       "        vertical-align: top;\n",
       "    }\n",
       "\n",
       "    .dataframe thead th {\n",
       "        text-align: right;\n",
       "    }\n",
       "</style>\n",
       "<table border=\"1\" class=\"dataframe\">\n",
       "  <thead>\n",
       "    <tr style=\"text-align: right;\">\n",
       "      <th></th>\n",
       "      <th>Time</th>\n",
       "      <th>zscore</th>\n",
       "    </tr>\n",
       "  </thead>\n",
       "  <tbody>\n",
       "    <tr>\n",
       "      <th>0</th>\n",
       "      <td>26</td>\n",
       "      <td>-0.953365</td>\n",
       "    </tr>\n",
       "    <tr>\n",
       "      <th>1</th>\n",
       "      <td>358</td>\n",
       "      <td>2.203021</td>\n",
       "    </tr>\n",
       "    <tr>\n",
       "      <th>2</th>\n",
       "      <td>218</td>\n",
       "      <td>0.872015</td>\n",
       "    </tr>\n",
       "    <tr>\n",
       "      <th>3</th>\n",
       "      <td>71</td>\n",
       "      <td>-0.525541</td>\n",
       "    </tr>\n",
       "    <tr>\n",
       "      <th>4</th>\n",
       "      <td>190</td>\n",
       "      <td>0.605814</td>\n",
       "    </tr>\n",
       "  </tbody>\n",
       "</table>\n",
       "</div>"
      ],
      "text/plain": [
       "   Time    zscore\n",
       "0    26 -0.953365\n",
       "1   358  2.203021\n",
       "2   218  0.872015\n",
       "3    71 -0.525541\n",
       "4   190  0.605814"
      ]
     },
     "execution_count": 62,
     "metadata": {},
     "output_type": "execute_result"
    }
   ],
   "source": [
    "df5['zscore'] = ( df5.Time - df5.Time.mean() ) / df5.Time.std()\n",
    "df5.head(5)"
   ]
  },
  {
   "cell_type": "code",
   "execution_count": 63,
   "metadata": {},
   "outputs": [
    {
     "name": "stdout",
     "output_type": "stream",
     "text": [
      "     Time    zscore\n",
      "27    698  5.435464\n",
      "35    502  3.572056\n",
      "94    518  3.724171\n",
      "96    714  5.587579\n",
      "139   466  3.229797\n",
      "154   557  4.094951\n",
      "221   876  7.127743\n",
      "271   450  3.077682\n",
      "321   614  4.636860\n",
      "333   461  3.182261\n",
      "401   667  5.140741\n",
      "461   475  3.315362\n",
      "576   703  5.483000\n",
      "611   609  4.589325\n",
      "784   493  3.486491\n",
      "Empty DataFrame\n",
      "Columns: [Time, zscore]\n",
      "Index: []\n"
     ]
    }
   ],
   "source": [
    "print(df5[df5['zscore']>3])\n",
    "print(df5[df5['zscore']<-3])\n",
    "#hence we can conclude that there are outliers in the data"
   ]
  },
  {
   "cell_type": "code",
   "execution_count": null,
   "metadata": {},
   "outputs": [],
   "source": []
  }
 ],
 "metadata": {
  "kernelspec": {
   "display_name": "Python 3",
   "language": "python",
   "name": "python3"
  },
  "language_info": {
   "codemirror_mode": {
    "name": "ipython",
    "version": 3
   },
   "file_extension": ".py",
   "mimetype": "text/x-python",
   "name": "python",
   "nbconvert_exporter": "python",
   "pygments_lexer": "ipython3",
   "version": "3.8.3"
  }
 },
 "nbformat": 4,
 "nbformat_minor": 4
}
