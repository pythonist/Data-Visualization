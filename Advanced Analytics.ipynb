{
 "cells": [
  {
   "cell_type": "code",
   "execution_count": 1,
   "metadata": {},
   "outputs": [],
   "source": [
    "#In the Sales Transaction data the categorical value column is Payment,Source,Product\n",
    "#There is no interval or ordinal data & ratio data in the dataframe"
   ]
  },
  {
   "cell_type": "code",
   "execution_count": 2,
   "metadata": {},
   "outputs": [],
   "source": [
    "import pandas as pd\n",
    "import numpy as np"
   ]
  },
  {
   "cell_type": "code",
   "execution_count": 3,
   "metadata": {
    "scrolled": true
   },
   "outputs": [
    {
     "data": {
      "text/html": [
       "<div>\n",
       "<style scoped>\n",
       "    .dataframe tbody tr th:only-of-type {\n",
       "        vertical-align: middle;\n",
       "    }\n",
       "\n",
       "    .dataframe tbody tr th {\n",
       "        vertical-align: top;\n",
       "    }\n",
       "\n",
       "    .dataframe thead th {\n",
       "        text-align: right;\n",
       "    }\n",
       "</style>\n",
       "<table border=\"1\" class=\"dataframe\">\n",
       "  <thead>\n",
       "    <tr style=\"text-align: right;\">\n",
       "      <th></th>\n",
       "      <th>Cust ID</th>\n",
       "      <th>Region</th>\n",
       "      <th>Payment</th>\n",
       "      <th>Transaction Code</th>\n",
       "      <th>Source</th>\n",
       "      <th>Amount</th>\n",
       "      <th>Product</th>\n",
       "      <th>Time Of Day</th>\n",
       "    </tr>\n",
       "  </thead>\n",
       "  <tbody>\n",
       "    <tr>\n",
       "      <th>0</th>\n",
       "      <td>10001</td>\n",
       "      <td>East</td>\n",
       "      <td>Paypal</td>\n",
       "      <td>93816545</td>\n",
       "      <td>Web</td>\n",
       "      <td>20.19</td>\n",
       "      <td>DVD</td>\n",
       "      <td>22:19:00</td>\n",
       "    </tr>\n",
       "    <tr>\n",
       "      <th>1</th>\n",
       "      <td>10002</td>\n",
       "      <td>West</td>\n",
       "      <td>Credit</td>\n",
       "      <td>74083490</td>\n",
       "      <td>Web</td>\n",
       "      <td>17.85</td>\n",
       "      <td>DVD</td>\n",
       "      <td>13:27:00</td>\n",
       "    </tr>\n",
       "    <tr>\n",
       "      <th>2</th>\n",
       "      <td>10003</td>\n",
       "      <td>North</td>\n",
       "      <td>Credit</td>\n",
       "      <td>64942368</td>\n",
       "      <td>Web</td>\n",
       "      <td>23.98</td>\n",
       "      <td>DVD</td>\n",
       "      <td>14:27:00</td>\n",
       "    </tr>\n",
       "    <tr>\n",
       "      <th>3</th>\n",
       "      <td>10004</td>\n",
       "      <td>West</td>\n",
       "      <td>Paypal</td>\n",
       "      <td>70560957</td>\n",
       "      <td>Email</td>\n",
       "      <td>23.51</td>\n",
       "      <td>Book</td>\n",
       "      <td>15:38:00</td>\n",
       "    </tr>\n",
       "    <tr>\n",
       "      <th>4</th>\n",
       "      <td>10005</td>\n",
       "      <td>South</td>\n",
       "      <td>Credit</td>\n",
       "      <td>35208817</td>\n",
       "      <td>Web</td>\n",
       "      <td>15.33</td>\n",
       "      <td>Book</td>\n",
       "      <td>15:21:00</td>\n",
       "    </tr>\n",
       "  </tbody>\n",
       "</table>\n",
       "</div>"
      ],
      "text/plain": [
       "   Cust ID Region Payment   Transaction Code Source  Amount Product  \\\n",
       "0    10001   East   Paypal          93816545    Web   20.19     DVD   \n",
       "1    10002   West   Credit          74083490    Web   17.85     DVD   \n",
       "2    10003  North   Credit          64942368    Web   23.98     DVD   \n",
       "3    10004   West   Paypal          70560957  Email   23.51    Book   \n",
       "4    10005  South   Credit          35208817    Web   15.33    Book   \n",
       "\n",
       "  Time Of Day  \n",
       "0    22:19:00  \n",
       "1    13:27:00  \n",
       "2    14:27:00  \n",
       "3    15:38:00  \n",
       "4    15:21:00  "
      ]
     },
     "execution_count": 3,
     "metadata": {},
     "output_type": "execute_result"
    }
   ],
   "source": [
    "df = pd.read_excel('Sales Transactions.xlsx')\n",
    "df.head()"
   ]
  },
  {
   "cell_type": "code",
   "execution_count": 4,
   "metadata": {},
   "outputs": [
    {
     "data": {
      "text/html": [
       "<div>\n",
       "<style scoped>\n",
       "    .dataframe tbody tr th:only-of-type {\n",
       "        vertical-align: middle;\n",
       "    }\n",
       "\n",
       "    .dataframe tbody tr th {\n",
       "        vertical-align: top;\n",
       "    }\n",
       "\n",
       "    .dataframe thead th {\n",
       "        text-align: right;\n",
       "    }\n",
       "</style>\n",
       "<table border=\"1\" class=\"dataframe\">\n",
       "  <thead>\n",
       "    <tr style=\"text-align: right;\">\n",
       "      <th></th>\n",
       "      <th>Transaction Code</th>\n",
       "    </tr>\n",
       "  </thead>\n",
       "  <tbody>\n",
       "    <tr>\n",
       "      <th>6</th>\n",
       "      <td>80103311</td>\n",
       "    </tr>\n",
       "  </tbody>\n",
       "</table>\n",
       "</div>"
      ],
      "text/plain": [
       "   Transaction Code\n",
       "6          80103311"
      ]
     },
     "execution_count": 4,
     "metadata": {},
     "output_type": "execute_result"
    }
   ],
   "source": [
    "df[df[\"Cust ID\"] == 10007][[\"Transaction Code\"]]"
   ]
  },
  {
   "cell_type": "code",
   "execution_count": 6,
   "metadata": {},
   "outputs": [
    {
     "data": {
      "text/plain": [
       "False"
      ]
     },
     "execution_count": 6,
     "metadata": {},
     "output_type": "execute_result"
    }
   ],
   "source": [
    "df.isin(['Transaction Code'== 10001]).any().any()"
   ]
  },
  {
   "cell_type": "code",
   "execution_count": 7,
   "metadata": {},
   "outputs": [
    {
     "data": {
      "text/html": [
       "<div>\n",
       "<style scoped>\n",
       "    .dataframe tbody tr th:only-of-type {\n",
       "        vertical-align: middle;\n",
       "    }\n",
       "\n",
       "    .dataframe tbody tr th {\n",
       "        vertical-align: top;\n",
       "    }\n",
       "\n",
       "    .dataframe thead th {\n",
       "        text-align: right;\n",
       "    }\n",
       "</style>\n",
       "<table border=\"1\" class=\"dataframe\">\n",
       "  <thead>\n",
       "    <tr style=\"text-align: right;\">\n",
       "      <th></th>\n",
       "      <th>Transaction Code</th>\n",
       "    </tr>\n",
       "  </thead>\n",
       "  <tbody>\n",
       "    <tr>\n",
       "      <th>0</th>\n",
       "      <td>93816545</td>\n",
       "    </tr>\n",
       "  </tbody>\n",
       "</table>\n",
       "</div>"
      ],
      "text/plain": [
       "   Transaction Code\n",
       "0          93816545"
      ]
     },
     "execution_count": 7,
     "metadata": {},
     "output_type": "execute_result"
    }
   ],
   "source": [
    "df[df['Cust ID']==10001][['Transaction Code']]"
   ]
  },
  {
   "cell_type": "code",
   "execution_count": 8,
   "metadata": {},
   "outputs": [],
   "source": [
    "df1 = pd.read_excel('Purchase Orders.xlsx')"
   ]
  },
  {
   "cell_type": "code",
   "execution_count": 9,
   "metadata": {
    "scrolled": true
   },
   "outputs": [
    {
     "data": {
      "text/html": [
       "<div>\n",
       "<style scoped>\n",
       "    .dataframe tbody tr th:only-of-type {\n",
       "        vertical-align: middle;\n",
       "    }\n",
       "\n",
       "    .dataframe tbody tr th {\n",
       "        vertical-align: top;\n",
       "    }\n",
       "\n",
       "    .dataframe thead th {\n",
       "        text-align: right;\n",
       "    }\n",
       "</style>\n",
       "<table border=\"1\" class=\"dataframe\">\n",
       "  <thead>\n",
       "    <tr style=\"text-align: right;\">\n",
       "      <th></th>\n",
       "      <th>Supplier</th>\n",
       "      <th>Order No.</th>\n",
       "      <th>Item No.</th>\n",
       "      <th>Item Description</th>\n",
       "      <th>Item Cost</th>\n",
       "      <th>Quantity</th>\n",
       "      <th>Cost per order</th>\n",
       "      <th>A/P Terms (Months)</th>\n",
       "      <th>Order Date</th>\n",
       "      <th>Arrival Date</th>\n",
       "    </tr>\n",
       "  </thead>\n",
       "  <tbody>\n",
       "    <tr>\n",
       "      <th>0</th>\n",
       "      <td>Hulkey Fasteners</td>\n",
       "      <td>Aug11001</td>\n",
       "      <td>1122</td>\n",
       "      <td>Airframe fasteners</td>\n",
       "      <td>4.25</td>\n",
       "      <td>19500</td>\n",
       "      <td>82875.0</td>\n",
       "      <td>30</td>\n",
       "      <td>2011-08-05</td>\n",
       "      <td>2011-08-13</td>\n",
       "    </tr>\n",
       "    <tr>\n",
       "      <th>1</th>\n",
       "      <td>Alum Sheeting</td>\n",
       "      <td>Aug11002</td>\n",
       "      <td>1243</td>\n",
       "      <td>Airframe fasteners</td>\n",
       "      <td>4.25</td>\n",
       "      <td>10000</td>\n",
       "      <td>42500.0</td>\n",
       "      <td>30</td>\n",
       "      <td>2011-08-08</td>\n",
       "      <td>2011-08-14</td>\n",
       "    </tr>\n",
       "    <tr>\n",
       "      <th>2</th>\n",
       "      <td>Fast-Tie Aerospace</td>\n",
       "      <td>Aug11003</td>\n",
       "      <td>5462</td>\n",
       "      <td>Shielded Cable/ft.</td>\n",
       "      <td>1.05</td>\n",
       "      <td>23000</td>\n",
       "      <td>24150.0</td>\n",
       "      <td>30</td>\n",
       "      <td>2011-08-10</td>\n",
       "      <td>2011-08-15</td>\n",
       "    </tr>\n",
       "    <tr>\n",
       "      <th>3</th>\n",
       "      <td>Fast-Tie Aerospace</td>\n",
       "      <td>Aug11004</td>\n",
       "      <td>5462</td>\n",
       "      <td>Shielded Cable/ft.</td>\n",
       "      <td>1.05</td>\n",
       "      <td>21500</td>\n",
       "      <td>22575.0</td>\n",
       "      <td>30</td>\n",
       "      <td>2011-08-15</td>\n",
       "      <td>2011-08-22</td>\n",
       "    </tr>\n",
       "    <tr>\n",
       "      <th>4</th>\n",
       "      <td>Steelpin Inc.</td>\n",
       "      <td>Aug11005</td>\n",
       "      <td>5319</td>\n",
       "      <td>Shielded Cable/ft.</td>\n",
       "      <td>1.10</td>\n",
       "      <td>17500</td>\n",
       "      <td>19250.0</td>\n",
       "      <td>30</td>\n",
       "      <td>2011-08-20</td>\n",
       "      <td>2011-08-31</td>\n",
       "    </tr>\n",
       "  </tbody>\n",
       "</table>\n",
       "</div>"
      ],
      "text/plain": [
       "            Supplier  Order No.  Item No.    Item Description  Item Cost  \\\n",
       "0    Hulkey Fasteners  Aug11001      1122  Airframe fasteners       4.25   \n",
       "1       Alum Sheeting  Aug11002      1243  Airframe fasteners       4.25   \n",
       "2  Fast-Tie Aerospace  Aug11003      5462  Shielded Cable/ft.       1.05   \n",
       "3  Fast-Tie Aerospace  Aug11004      5462  Shielded Cable/ft.       1.05   \n",
       "4       Steelpin Inc.  Aug11005      5319  Shielded Cable/ft.       1.10   \n",
       "\n",
       "   Quantity  Cost per order  A/P Terms (Months) Order Date Arrival Date  \n",
       "0     19500         82875.0                  30 2011-08-05   2011-08-13  \n",
       "1     10000         42500.0                  30 2011-08-08   2011-08-14  \n",
       "2     23000         24150.0                  30 2011-08-10   2011-08-15  \n",
       "3     21500         22575.0                  30 2011-08-15   2011-08-22  \n",
       "4     17500         19250.0                  30 2011-08-20   2011-08-31  "
      ]
     },
     "execution_count": 9,
     "metadata": {},
     "output_type": "execute_result"
    }
   ],
   "source": [
    "df1.head()"
   ]
  },
  {
   "cell_type": "code",
   "execution_count": 10,
   "metadata": {},
   "outputs": [
    {
     "data": {
      "text/html": [
       "<div>\n",
       "<style scoped>\n",
       "    .dataframe tbody tr th:only-of-type {\n",
       "        vertical-align: middle;\n",
       "    }\n",
       "\n",
       "    .dataframe tbody tr th {\n",
       "        vertical-align: top;\n",
       "    }\n",
       "\n",
       "    .dataframe thead th {\n",
       "        text-align: right;\n",
       "    }\n",
       "</style>\n",
       "<table border=\"1\" class=\"dataframe\">\n",
       "  <thead>\n",
       "    <tr style=\"text-align: right;\">\n",
       "      <th></th>\n",
       "      <th>Supplier</th>\n",
       "      <th>Order No.</th>\n",
       "      <th>Item No.</th>\n",
       "      <th>Item Description</th>\n",
       "      <th>Item Cost</th>\n",
       "      <th>Quantity</th>\n",
       "      <th>Cost per order</th>\n",
       "      <th>A/P Terms (Months)</th>\n",
       "      <th>Order Date</th>\n",
       "      <th>Arrival Date</th>\n",
       "    </tr>\n",
       "  </thead>\n",
       "  <tbody>\n",
       "    <tr>\n",
       "      <th>25</th>\n",
       "      <td>Hulkey Fasteners</td>\n",
       "      <td>Sep11012</td>\n",
       "      <td>5066</td>\n",
       "      <td>Shielded Cable/ft.</td>\n",
       "      <td>0.95</td>\n",
       "      <td>25000</td>\n",
       "      <td>23750.0</td>\n",
       "      <td>30</td>\n",
       "      <td>2011-09-05</td>\n",
       "      <td>2011-09-12</td>\n",
       "    </tr>\n",
       "  </tbody>\n",
       "</table>\n",
       "</div>"
      ],
      "text/plain": [
       "           Supplier  Order No.  Item No.    Item Description  Item Cost  \\\n",
       "25  Hulkey Fasteners  Sep11012      5066  Shielded Cable/ft.       0.95   \n",
       "\n",
       "    Quantity  Cost per order  A/P Terms (Months) Order Date Arrival Date  \n",
       "25     25000         23750.0                  30 2011-09-05   2011-09-12  "
      ]
     },
     "execution_count": 10,
     "metadata": {},
     "output_type": "execute_result"
    }
   ],
   "source": [
    "#laregst quantity value\n",
    "df1.nlargest(1, ['Quantity']) "
   ]
  },
  {
   "cell_type": "code",
   "execution_count": 11,
   "metadata": {},
   "outputs": [
    {
     "data": {
      "text/html": [
       "<div>\n",
       "<style scoped>\n",
       "    .dataframe tbody tr th:only-of-type {\n",
       "        vertical-align: middle;\n",
       "    }\n",
       "\n",
       "    .dataframe tbody tr th {\n",
       "        vertical-align: top;\n",
       "    }\n",
       "\n",
       "    .dataframe thead th {\n",
       "        text-align: right;\n",
       "    }\n",
       "</style>\n",
       "<table border=\"1\" class=\"dataframe\">\n",
       "  <thead>\n",
       "    <tr style=\"text-align: right;\">\n",
       "      <th></th>\n",
       "      <th>Supplier</th>\n",
       "      <th>Order No.</th>\n",
       "      <th>Item No.</th>\n",
       "      <th>Item Description</th>\n",
       "      <th>Item Cost</th>\n",
       "      <th>Quantity</th>\n",
       "      <th>Cost per order</th>\n",
       "      <th>A/P Terms (Months)</th>\n",
       "      <th>Order Date</th>\n",
       "      <th>Arrival Date</th>\n",
       "    </tr>\n",
       "  </thead>\n",
       "  <tbody>\n",
       "    <tr>\n",
       "      <th>65</th>\n",
       "      <td>Manley Valve</td>\n",
       "      <td>Oct11018</td>\n",
       "      <td>7258</td>\n",
       "      <td>Pressure Gauge</td>\n",
       "      <td>100.5</td>\n",
       "      <td>90</td>\n",
       "      <td>9045.0</td>\n",
       "      <td>30</td>\n",
       "      <td>2011-10-10</td>\n",
       "      <td>2011-10-17</td>\n",
       "    </tr>\n",
       "  </tbody>\n",
       "</table>\n",
       "</div>"
      ],
      "text/plain": [
       "       Supplier  Order No.  Item No. Item Description  Item Cost  Quantity  \\\n",
       "65  Manley Valve  Oct11018      7258   Pressure Gauge      100.5        90   \n",
       "\n",
       "    Cost per order  A/P Terms (Months) Order Date Arrival Date  \n",
       "65          9045.0                  30 2011-10-10   2011-10-17  "
      ]
     },
     "execution_count": 11,
     "metadata": {},
     "output_type": "execute_result"
    }
   ],
   "source": [
    "#smallest value quantity\n",
    "df1.nsmallest(1,['Quantity'])"
   ]
  },
  {
   "cell_type": "code",
   "execution_count": 12,
   "metadata": {},
   "outputs": [
    {
     "data": {
      "text/plain": [
       "5888.250000000001"
      ]
     },
     "execution_count": 12,
     "metadata": {},
     "output_type": "execute_result"
    }
   ],
   "source": [
    "#total of order cost \n",
    "df1['Item Cost'].sum()"
   ]
  },
  {
   "cell_type": "code",
   "execution_count": 13,
   "metadata": {},
   "outputs": [
    {
     "data": {
      "text/plain": [
       "94"
      ]
     },
     "execution_count": 13,
     "metadata": {},
     "output_type": "execute_result"
    }
   ],
   "source": [
    "df1['Order No.'].count()"
   ]
  },
  {
   "cell_type": "code",
   "execution_count": 14,
   "metadata": {},
   "outputs": [],
   "source": [
    "df1.rename(columns={'Item Description':'Itemdesc'}, inplace=True)"
   ]
  },
  {
   "cell_type": "code",
   "execution_count": 15,
   "metadata": {},
   "outputs": [
    {
     "data": {
      "text/plain": [
       "[Supplier              12\n",
       " Order No.             12\n",
       " Item No.              12\n",
       " Itemdesc              12\n",
       " Item Cost             12\n",
       " Quantity              12\n",
       " Cost per order        12\n",
       " A/P Terms (Months)    12\n",
       " Order Date            12\n",
       " Arrival Date          12\n",
       " dtype: int64]"
      ]
     },
     "execution_count": 15,
     "metadata": {},
     "output_type": "execute_result"
    }
   ],
   "source": [
    "#details for O-Ring purchased\n",
    "[df1[df1.Itemdesc == 'O-Ring'].count()]"
   ]
  },
  {
   "cell_type": "code",
   "execution_count": 16,
   "metadata": {},
   "outputs": [],
   "source": [
    "df1.rename(columns={'A/P Terms (Months)':'AP'}, inplace=True)"
   ]
  },
  {
   "cell_type": "code",
   "execution_count": 17,
   "metadata": {},
   "outputs": [
    {
     "data": {
      "text/plain": [
       "17"
      ]
     },
     "execution_count": 17,
     "metadata": {},
     "output_type": "execute_result"
    }
   ],
   "source": [
    "#Number of orders with A/P term shorter than 30 months\n",
    "df1[df1['AP'] < 30]['Order No.'].count()"
   ]
  },
  {
   "cell_type": "code",
   "execution_count": 18,
   "metadata": {},
   "outputs": [
    {
     "data": {
      "text/plain": [
       "30.638297872340427"
      ]
     },
     "execution_count": 18,
     "metadata": {},
     "output_type": "execute_result"
    }
   ],
   "source": [
    "a = df1['AP'].mean()\n",
    "a"
   ]
  },
  {
   "cell_type": "code",
   "execution_count": 19,
   "metadata": {},
   "outputs": [
    {
     "data": {
      "text/plain": [
       "Airframe fasteners      14\n",
       "O-Ring                  12\n",
       "Bolt-nut package        11\n",
       "Shielded Cable/ft.      11\n",
       "Gasket                  10\n",
       "Side Panel               8\n",
       "Electrical Connector     8\n",
       "Pressure Gauge           7\n",
       "Control Panel            4\n",
       "Machined Valve           4\n",
       "Hatch Decal              2\n",
       "Door Decal               2\n",
       "Panel Decal              1\n",
       "Name: Itemdesc, dtype: int64"
      ]
     },
     "execution_count": 19,
     "metadata": {},
     "output_type": "execute_result"
    }
   ],
   "source": [
    "b = df1['Itemdesc'].value_counts()\n",
    "b"
   ]
  },
  {
   "cell_type": "code",
   "execution_count": 20,
   "metadata": {},
   "outputs": [
    {
     "data": {
      "text/plain": [
       "Airframe fasteners       2.188450\n",
       "O-Ring                   2.553191\n",
       "Bolt-nut package         2.785300\n",
       "Shielded Cable/ft.       2.785300\n",
       "Gasket                   3.063830\n",
       "Side Panel               3.829787\n",
       "Electrical Connector     3.829787\n",
       "Pressure Gauge           4.376900\n",
       "Control Panel            7.659574\n",
       "Machined Valve           7.659574\n",
       "Hatch Decal             15.319149\n",
       "Door Decal              15.319149\n",
       "Panel Decal             30.638298\n",
       "Name: Itemdesc, dtype: float64"
      ]
     },
     "execution_count": 20,
     "metadata": {},
     "output_type": "execute_result"
    }
   ],
   "source": [
    "#average months for each item\n",
    "c = a/b\n",
    "c"
   ]
  },
  {
   "cell_type": "code",
   "execution_count": 21,
   "metadata": {},
   "outputs": [],
   "source": [
    "import matplotlib.pyplot as plt"
   ]
  },
  {
   "cell_type": "code",
   "execution_count": 22,
   "metadata": {},
   "outputs": [],
   "source": [
    "df2 = pd.read_excel('S&P 500.xlsx')"
   ]
  },
  {
   "cell_type": "code",
   "execution_count": 23,
   "metadata": {},
   "outputs": [
    {
     "data": {
      "text/html": [
       "<div>\n",
       "<style scoped>\n",
       "    .dataframe tbody tr th:only-of-type {\n",
       "        vertical-align: middle;\n",
       "    }\n",
       "\n",
       "    .dataframe tbody tr th {\n",
       "        vertical-align: top;\n",
       "    }\n",
       "\n",
       "    .dataframe thead th {\n",
       "        text-align: right;\n",
       "    }\n",
       "</style>\n",
       "<table border=\"1\" class=\"dataframe\">\n",
       "  <thead>\n",
       "    <tr style=\"text-align: right;\">\n",
       "      <th></th>\n",
       "      <th>Date</th>\n",
       "      <th>Open</th>\n",
       "      <th>High</th>\n",
       "      <th>Low</th>\n",
       "      <th>Close</th>\n",
       "    </tr>\n",
       "  </thead>\n",
       "  <tbody>\n",
       "    <tr>\n",
       "      <th>0</th>\n",
       "      <td>2007-10-03</td>\n",
       "      <td>1539.7400</td>\n",
       "      <td>1545.8401</td>\n",
       "      <td>1536.3398</td>\n",
       "      <td>1539.5898</td>\n",
       "    </tr>\n",
       "    <tr>\n",
       "      <th>1</th>\n",
       "      <td>2007-10-04</td>\n",
       "      <td>1542.6299</td>\n",
       "      <td>1544.0200</td>\n",
       "      <td>1537.6299</td>\n",
       "      <td>1542.8398</td>\n",
       "    </tr>\n",
       "    <tr>\n",
       "      <th>2</th>\n",
       "      <td>2007-10-05</td>\n",
       "      <td>1550.5100</td>\n",
       "      <td>1561.9099</td>\n",
       "      <td>1543.8398</td>\n",
       "      <td>1557.5898</td>\n",
       "    </tr>\n",
       "    <tr>\n",
       "      <th>3</th>\n",
       "      <td>2007-10-08</td>\n",
       "      <td>1553.6899</td>\n",
       "      <td>1556.5100</td>\n",
       "      <td>1549.0000</td>\n",
       "      <td>1552.5798</td>\n",
       "    </tr>\n",
       "    <tr>\n",
       "      <th>4</th>\n",
       "      <td>2007-10-09</td>\n",
       "      <td>1556.2900</td>\n",
       "      <td>1565.2700</td>\n",
       "      <td>1551.8098</td>\n",
       "      <td>1565.1499</td>\n",
       "    </tr>\n",
       "  </tbody>\n",
       "</table>\n",
       "</div>"
      ],
      "text/plain": [
       "        Date       Open       High        Low      Close\n",
       "0 2007-10-03  1539.7400  1545.8401  1536.3398  1539.5898\n",
       "1 2007-10-04  1542.6299  1544.0200  1537.6299  1542.8398\n",
       "2 2007-10-05  1550.5100  1561.9099  1543.8398  1557.5898\n",
       "3 2007-10-08  1553.6899  1556.5100  1549.0000  1552.5798\n",
       "4 2007-10-09  1556.2900  1565.2700  1551.8098  1565.1499"
      ]
     },
     "execution_count": 23,
     "metadata": {},
     "output_type": "execute_result"
    }
   ],
   "source": [
    "df2.head()"
   ]
  },
  {
   "cell_type": "code",
   "execution_count": 24,
   "metadata": {
    "scrolled": true
   },
   "outputs": [
    {
     "data": {
      "image/png": "[encoded data removed]",
      "text/plain": [
       "<Figure size 432x288 with 1 Axes>"
      ]
     },
     "metadata": {
      "needs_background": "light"
     },
     "output_type": "display_data"
    }
   ],
   "source": [
    "plt.plot(df2['Close'], df2['Date'], color='Blue')\n",
    "plt.title('Line Chart', fontsize=14)\n",
    "plt.xlabel('Closing Prices', fontsize=14)\n",
    "plt.ylabel('Date', fontsize=14)\n",
    "plt.grid(True)\n",
    "plt.show()"
   ]
  },
  {
   "cell_type": "markdown",
   "metadata": {},
   "source": [
    "df2 = pd.read_excel('S&P 500.xlsx')"
   ]
  },
  {
   "cell_type": "code",
   "execution_count": 25,
   "metadata": {},
   "outputs": [
    {
     "data": {
      "text/html": [
       "<div>\n",
       "<style scoped>\n",
       "    .dataframe tbody tr th:only-of-type {\n",
       "        vertical-align: middle;\n",
       "    }\n",
       "\n",
       "    .dataframe tbody tr th {\n",
       "        vertical-align: top;\n",
       "    }\n",
       "\n",
       "    .dataframe thead th {\n",
       "        text-align: right;\n",
       "    }\n",
       "</style>\n",
       "<table border=\"1\" class=\"dataframe\">\n",
       "  <thead>\n",
       "    <tr style=\"text-align: right;\">\n",
       "      <th></th>\n",
       "      <th>Occupation</th>\n",
       "      <th>2000</th>\n",
       "      <th>2010</th>\n",
       "    </tr>\n",
       "  </thead>\n",
       "  <tbody>\n",
       "    <tr>\n",
       "      <th>0</th>\n",
       "      <td>Scientists</td>\n",
       "      <td>3241</td>\n",
       "      <td>5301</td>\n",
       "    </tr>\n",
       "    <tr>\n",
       "      <th>1</th>\n",
       "      <td>Life scientists</td>\n",
       "      <td>184</td>\n",
       "      <td>218</td>\n",
       "    </tr>\n",
       "    <tr>\n",
       "      <th>2</th>\n",
       "      <td>Mathematical/computer scientists</td>\n",
       "      <td>2408</td>\n",
       "      <td>4308</td>\n",
       "    </tr>\n",
       "    <tr>\n",
       "      <th>3</th>\n",
       "      <td>Computer specialists</td>\n",
       "      <td>2318</td>\n",
       "      <td>4213</td>\n",
       "    </tr>\n",
       "    <tr>\n",
       "      <th>4</th>\n",
       "      <td>Mathematical scientists</td>\n",
       "      <td>89</td>\n",
       "      <td>95</td>\n",
       "    </tr>\n",
       "  </tbody>\n",
       "</table>\n",
       "</div>"
      ],
      "text/plain": [
       "                         Occupation  2000  2010\n",
       "0                        Scientists  3241  5301\n",
       "1                   Life scientists   184   218\n",
       "2  Mathematical/computer scientists  2408  4308\n",
       "3              Computer specialists  2318  4213\n",
       "4           Mathematical scientists    89    95"
      ]
     },
     "execution_count": 25,
     "metadata": {},
     "output_type": "execute_result"
    }
   ],
   "source": [
    "df3 = pd.read_excel('Science and Engineering Jobs.xlsx')\n",
    "df3.head()"
   ]
  },
  {
   "cell_type": "code",
   "execution_count": 26,
   "metadata": {},
   "outputs": [],
   "source": [
    "new_df = df3.drop(8)"
   ]
  },
  {
   "cell_type": "code",
   "execution_count": 27,
   "metadata": {},
   "outputs": [
    {
     "data": {
      "image/png": "[encoded data removed]",
      "text/plain": [
       "<Figure size 432x288 with 1 Axes>"
      ]
     },
     "metadata": {},
     "output_type": "display_data"
    }
   ],
   "source": [
    "#for year 2000\n",
    "fig = plt.figure()\n",
    "explode = (0,0.3,0,0,0.2,0.15,0,0)\n",
    "ax = fig.add_axes([0,0,1,1])\n",
    "ax.axis('equal')\n",
    "occ = new_df[new_df.columns[0]].tolist()\n",
    "counts = new_df[new_df.columns[1]].tolist()\n",
    "ax.pie(counts, labels = occ,autopct='%1.2f%%',explode=explode)\n",
    "ax.set_title('Occupation Visualization for 2000')\n",
    "plt.show()"
   ]
  },
  {
   "cell_type": "code",
   "execution_count": 28,
   "metadata": {
    "scrolled": true
   },
   "outputs": [
    {
     "data": {
      "image/png": "[encoded data removed]",
      "text/plain": [
       "<Figure size 432x288 with 1 Axes>"
      ]
     },
     "metadata": {},
     "output_type": "display_data"
    }
   ],
   "source": [
    "#for year 2010\n",
    "fig = plt.figure()\n",
    "explode = (0,0.3,0,0,0.2,0.15,0,0)\n",
    "ax = fig.add_axes([0,0,1,1])\n",
    "ax.axis('equal')\n",
    "occ = new_df[new_df.columns[0]].tolist()\n",
    "counts = new_df[new_df.columns[2]].tolist()\n",
    "ax.pie(counts, labels = occ,autopct='%1.2f%%',explode=explode)\n",
    "ax.set_title('Occupation Visualization for 2010')\n",
    "plt.show()"
   ]
  },
  {
   "cell_type": "code",
   "execution_count": 33,
   "metadata": {},
   "outputs": [
    {
     "data": {
      "text/html": [
       "<div>\n",
       "<style scoped>\n",
       "    .dataframe tbody tr th:only-of-type {\n",
       "        vertical-align: middle;\n",
       "    }\n",
       "\n",
       "    .dataframe tbody tr th {\n",
       "        vertical-align: top;\n",
       "    }\n",
       "\n",
       "    .dataframe thead th {\n",
       "        text-align: right;\n",
       "    }\n",
       "</style>\n",
       "<table border=\"1\" class=\"dataframe\">\n",
       "  <thead>\n",
       "    <tr style=\"text-align: right;\">\n",
       "      <th></th>\n",
       "      <th>Student</th>\n",
       "      <th>Gender</th>\n",
       "      <th>Hours online/week</th>\n",
       "      <th>Friends</th>\n",
       "    </tr>\n",
       "  </thead>\n",
       "  <tbody>\n",
       "    <tr>\n",
       "      <th>0</th>\n",
       "      <td>1</td>\n",
       "      <td>female</td>\n",
       "      <td>4</td>\n",
       "      <td>150</td>\n",
       "    </tr>\n",
       "    <tr>\n",
       "      <th>1</th>\n",
       "      <td>2</td>\n",
       "      <td>female</td>\n",
       "      <td>10</td>\n",
       "      <td>400</td>\n",
       "    </tr>\n",
       "    <tr>\n",
       "      <th>2</th>\n",
       "      <td>3</td>\n",
       "      <td>male</td>\n",
       "      <td>7</td>\n",
       "      <td>120</td>\n",
       "    </tr>\n",
       "    <tr>\n",
       "      <th>3</th>\n",
       "      <td>4</td>\n",
       "      <td>male</td>\n",
       "      <td>15</td>\n",
       "      <td>500</td>\n",
       "    </tr>\n",
       "    <tr>\n",
       "      <th>4</th>\n",
       "      <td>5</td>\n",
       "      <td>female</td>\n",
       "      <td>9</td>\n",
       "      <td>260</td>\n",
       "    </tr>\n",
       "  </tbody>\n",
       "</table>\n",
       "</div>"
      ],
      "text/plain": [
       "   Student  Gender  Hours online/week  Friends\n",
       "0        1  female                  4      150\n",
       "1        2  female                 10      400\n",
       "2        3    male                  7      120\n",
       "3        4    male                 15      500\n",
       "4        5  female                  9      260"
      ]
     },
     "execution_count": 33,
     "metadata": {},
     "output_type": "execute_result"
    }
   ],
   "source": [
    "df4 = pd.read_excel('Facebook Survey.xlsx',skiprows=2)\n",
    "df4.head()"
   ]
  },
  {
   "cell_type": "code",
   "execution_count": 34,
   "metadata": {},
   "outputs": [
    {
     "data": {
      "text/plain": [
       "Index(['Student', 'Gender', 'Hours online/week', 'Friends'], dtype='object')"
      ]
     },
     "execution_count": 34,
     "metadata": {},
     "output_type": "execute_result"
    }
   ],
   "source": [
    "df4.columns"
   ]
  },
  {
   "cell_type": "code",
   "execution_count": 35,
   "metadata": {},
   "outputs": [
    {
     "data": {
      "image/png": "[encoded data removed]",
      "text/plain": [
       "<Figure size 432x288 with 1 Axes>"
      ]
     },
     "metadata": {
      "needs_background": "light"
     },
     "output_type": "display_data"
    }
   ],
   "source": [
    "hours = df4[\"Hours online/week\"].tolist()\n",
    "frnds = df4[\"Friends\"].tolist()\n",
    "fig=plt.figure()\n",
    "ax=fig.add_axes([0,0,1,1])\n",
    "ax.scatter(hours, frnds, color='green')\n",
    "ax.set_xlabel('hours online')\n",
    "ax.set_ylabel('Frineds')\n",
    "ax.set_title('Facebook data')\n",
    "plt.show()"
   ]
  },
  {
   "cell_type": "code",
   "execution_count": 36,
   "metadata": {},
   "outputs": [
    {
     "data": {
      "text/html": [
       "<div>\n",
       "<style scoped>\n",
       "    .dataframe tbody tr th:only-of-type {\n",
       "        vertical-align: middle;\n",
       "    }\n",
       "\n",
       "    .dataframe tbody tr th {\n",
       "        vertical-align: top;\n",
       "    }\n",
       "\n",
       "    .dataframe thead th {\n",
       "        text-align: right;\n",
       "    }\n",
       "</style>\n",
       "<table border=\"1\" class=\"dataframe\">\n",
       "  <thead>\n",
       "    <tr style=\"text-align: right;\">\n",
       "      <th></th>\n",
       "      <th>Flight Number</th>\n",
       "      <th>Origin Airport</th>\n",
       "      <th>Scheduled Arrival Time</th>\n",
       "      <th>Actual Arrival Time</th>\n",
       "      <th>Time Difference (Minutes)</th>\n",
       "      <th>Taxi-in Time (Minutes)</th>\n",
       "    </tr>\n",
       "  </thead>\n",
       "  <tbody>\n",
       "    <tr>\n",
       "      <th>0</th>\n",
       "      <td>8</td>\n",
       "      <td>IAH</td>\n",
       "      <td>19:04</td>\n",
       "      <td>19:19</td>\n",
       "      <td>15</td>\n",
       "      <td>14</td>\n",
       "    </tr>\n",
       "    <tr>\n",
       "      <th>1</th>\n",
       "      <td>16</td>\n",
       "      <td>LAX</td>\n",
       "      <td>15:10</td>\n",
       "      <td>15:04</td>\n",
       "      <td>-6</td>\n",
       "      <td>6</td>\n",
       "    </tr>\n",
       "    <tr>\n",
       "      <th>2</th>\n",
       "      <td>22</td>\n",
       "      <td>MSY</td>\n",
       "      <td>16:33</td>\n",
       "      <td>16:24</td>\n",
       "      <td>-9</td>\n",
       "      <td>11</td>\n",
       "    </tr>\n",
       "    <tr>\n",
       "      <th>3</th>\n",
       "      <td>24</td>\n",
       "      <td>LAS</td>\n",
       "      <td>14:33</td>\n",
       "      <td>14:27</td>\n",
       "      <td>-6</td>\n",
       "      <td>9</td>\n",
       "    </tr>\n",
       "    <tr>\n",
       "      <th>4</th>\n",
       "      <td>28</td>\n",
       "      <td>MCO</td>\n",
       "      <td>14:10</td>\n",
       "      <td>14:15</td>\n",
       "      <td>5</td>\n",
       "      <td>13</td>\n",
       "    </tr>\n",
       "  </tbody>\n",
       "</table>\n",
       "</div>"
      ],
      "text/plain": [
       "  Flight Number Origin Airport  Scheduled Arrival Time               \\\n",
       "0             8             IAH                               19:04   \n",
       "1            16             LAX                               15:10   \n",
       "2            22             MSY                               16:33   \n",
       "3            24             LAS                               14:33   \n",
       "4            28             MCO                               14:10   \n",
       "\n",
       "  Actual Arrival Time              Time Difference (Minutes)  \\\n",
       "0                            19:19                        15   \n",
       "1                            15:04                        -6   \n",
       "2                            16:24                        -9   \n",
       "3                            14:27                        -6   \n",
       "4                            14:15                         5   \n",
       "\n",
       "  Taxi-in Time (Minutes)  \n",
       "0                     14  \n",
       "1                      6  \n",
       "2                     11  \n",
       "3                      9  \n",
       "4                     13  "
      ]
     },
     "execution_count": 36,
     "metadata": {},
     "output_type": "execute_result"
    }
   ],
   "source": [
    "df5 = pd.read_excel('Atlanta Airline Data.xlsx')\n",
    "df5.head()"
   ]
  },
  {
   "cell_type": "code",
   "execution_count": 37,
   "metadata": {},
   "outputs": [],
   "source": [
    "from scipy import stats"
   ]
  },
  {
   "cell_type": "code",
   "execution_count": 38,
   "metadata": {},
   "outputs": [
    {
     "data": {
      "text/html": [
       "<div>\n",
       "<style scoped>\n",
       "    .dataframe tbody tr th:only-of-type {\n",
       "        vertical-align: middle;\n",
       "    }\n",
       "\n",
       "    .dataframe tbody tr th {\n",
       "        vertical-align: top;\n",
       "    }\n",
       "\n",
       "    .dataframe thead th {\n",
       "        text-align: right;\n",
       "    }\n",
       "</style>\n",
       "<table border=\"1\" class=\"dataframe\">\n",
       "  <thead>\n",
       "    <tr style=\"text-align: right;\">\n",
       "      <th></th>\n",
       "      <th>Flight Number</th>\n",
       "      <th>Origin Airport</th>\n",
       "      <th>Scheduled Arrival Time</th>\n",
       "      <th>Actual Arrival Time</th>\n",
       "      <th>TD</th>\n",
       "      <th>Taxi-in Time (Minutes)</th>\n",
       "    </tr>\n",
       "  </thead>\n",
       "  <tbody>\n",
       "    <tr>\n",
       "      <th>0</th>\n",
       "      <td>8</td>\n",
       "      <td>IAH</td>\n",
       "      <td>19:04</td>\n",
       "      <td>19:19</td>\n",
       "      <td>15</td>\n",
       "      <td>14</td>\n",
       "    </tr>\n",
       "    <tr>\n",
       "      <th>1</th>\n",
       "      <td>16</td>\n",
       "      <td>LAX</td>\n",
       "      <td>15:10</td>\n",
       "      <td>15:04</td>\n",
       "      <td>-6</td>\n",
       "      <td>6</td>\n",
       "    </tr>\n",
       "    <tr>\n",
       "      <th>2</th>\n",
       "      <td>22</td>\n",
       "      <td>MSY</td>\n",
       "      <td>16:33</td>\n",
       "      <td>16:24</td>\n",
       "      <td>-9</td>\n",
       "      <td>11</td>\n",
       "    </tr>\n",
       "    <tr>\n",
       "      <th>3</th>\n",
       "      <td>24</td>\n",
       "      <td>LAS</td>\n",
       "      <td>14:33</td>\n",
       "      <td>14:27</td>\n",
       "      <td>-6</td>\n",
       "      <td>9</td>\n",
       "    </tr>\n",
       "    <tr>\n",
       "      <th>4</th>\n",
       "      <td>28</td>\n",
       "      <td>MCO</td>\n",
       "      <td>14:10</td>\n",
       "      <td>14:15</td>\n",
       "      <td>5</td>\n",
       "      <td>13</td>\n",
       "    </tr>\n",
       "  </tbody>\n",
       "</table>\n",
       "</div>"
      ],
      "text/plain": [
       "  Flight Number Origin Airport  Scheduled Arrival Time               \\\n",
       "0             8             IAH                               19:04   \n",
       "1            16             LAX                               15:10   \n",
       "2            22             MSY                               16:33   \n",
       "3            24             LAS                               14:33   \n",
       "4            28             MCO                               14:10   \n",
       "\n",
       "  Actual Arrival Time               TD Taxi-in Time (Minutes)  \n",
       "0                            19:19  15                     14  \n",
       "1                            15:04  -6                      6  \n",
       "2                            16:24  -9                     11  \n",
       "3                            14:27  -6                      9  \n",
       "4                            14:15   5                     13  "
      ]
     },
     "execution_count": 38,
     "metadata": {},
     "output_type": "execute_result"
    }
   ],
   "source": [
    "df5.rename(columns={'Time Difference (Minutes)':'TD'}, inplace=True)\n",
    "df5.head()"
   ]
  },
  {
   "cell_type": "code",
   "execution_count": 39,
   "metadata": {},
   "outputs": [],
   "source": [
    "#drop the last beacuse was giving parse error\n",
    "df5_c = df5.drop(330)"
   ]
  },
  {
   "cell_type": "code",
   "execution_count": 40,
   "metadata": {},
   "outputs": [],
   "source": [
    "df5_c['TD'] = pd.to_numeric(df5_c['TD'])"
   ]
  },
  {
   "cell_type": "code",
   "execution_count": 41,
   "metadata": {},
   "outputs": [
    {
     "name": "stdout",
     "output_type": "stream",
     "text": [
      "Percentile 77.27272727272727\n",
      "Percentile 98.18181818181819\n"
     ]
    }
   ],
   "source": [
    "#percentile 10th and 90th\n",
    "print(\"Percentile\", stats.percentileofscore(df5_c['TD'],10))\n",
    "print(\"Percentile\", stats.percentileofscore(df5_c['TD'],90))"
   ]
  },
  {
   "cell_type": "code",
   "execution_count": 42,
   "metadata": {},
   "outputs": [
    {
     "name": "stdout",
     "output_type": "stream",
     "text": [
      "[-12.   -12.   -11.   -11.   -11.   -10.   -10.   -10.    -9.    -9.\n",
      "  -9.    -9.    -8.    -8.    -8.    -7.4   -7.    -6.    -6.    -6.\n",
      "  -5.    -4.66  -4.    -4.    -3.    -3.    -2.    -2.    -2.    -2.\n",
      "  -1.    -1.    -1.    -1.     0.     0.4    1.     1.     2.     2.\n",
      "   2.85   3.     3.     4.     5.01   6.3    7.     7.     8.     8.  ]\n"
     ]
    }
   ],
   "source": [
    "print(np.percentile(df5_c['TD'], np.arange(25,75)))"
   ]
  },
  {
   "cell_type": "code",
   "execution_count": 43,
   "metadata": {},
   "outputs": [
    {
     "name": "stdout",
     "output_type": "stream",
     "text": [
      "-12.0\n",
      "8.0\n"
     ]
    }
   ],
   "source": [
    "#quartile q1 and q3\n",
    "print(np.percentile(df5_c.TD, 25))\n",
    "print(np.percentile(df5_c.TD, 75))"
   ]
  },
  {
   "cell_type": "code",
   "execution_count": 44,
   "metadata": {},
   "outputs": [
    {
     "data": {
      "text/html": [
       "<div>\n",
       "<style scoped>\n",
       "    .dataframe tbody tr th:only-of-type {\n",
       "        vertical-align: middle;\n",
       "    }\n",
       "\n",
       "    .dataframe tbody tr th {\n",
       "        vertical-align: top;\n",
       "    }\n",
       "\n",
       "    .dataframe thead th {\n",
       "        text-align: right;\n",
       "    }\n",
       "</style>\n",
       "<table border=\"1\" class=\"dataframe\">\n",
       "  <thead>\n",
       "    <tr style=\"text-align: right;\">\n",
       "      <th></th>\n",
       "      <th>Gender</th>\n",
       "      <th>Carrier</th>\n",
       "      <th>Type</th>\n",
       "      <th>Usage</th>\n",
       "      <th>Signal strength</th>\n",
       "      <th>Value for the Dollar</th>\n",
       "      <th>Customer Service</th>\n",
       "    </tr>\n",
       "  </thead>\n",
       "  <tbody>\n",
       "    <tr>\n",
       "      <th>0</th>\n",
       "      <td>M</td>\n",
       "      <td>AT&amp;T</td>\n",
       "      <td>Smart</td>\n",
       "      <td>High</td>\n",
       "      <td>5</td>\n",
       "      <td>4</td>\n",
       "      <td>4</td>\n",
       "    </tr>\n",
       "    <tr>\n",
       "      <th>1</th>\n",
       "      <td>M</td>\n",
       "      <td>AT&amp;T</td>\n",
       "      <td>Smart</td>\n",
       "      <td>High</td>\n",
       "      <td>5</td>\n",
       "      <td>4</td>\n",
       "      <td>2</td>\n",
       "    </tr>\n",
       "    <tr>\n",
       "      <th>2</th>\n",
       "      <td>M</td>\n",
       "      <td>AT&amp;T</td>\n",
       "      <td>Smart</td>\n",
       "      <td>Average</td>\n",
       "      <td>4</td>\n",
       "      <td>4</td>\n",
       "      <td>4</td>\n",
       "    </tr>\n",
       "    <tr>\n",
       "      <th>3</th>\n",
       "      <td>M</td>\n",
       "      <td>AT&amp;T</td>\n",
       "      <td>Smart</td>\n",
       "      <td>Very high</td>\n",
       "      <td>2</td>\n",
       "      <td>3</td>\n",
       "      <td>3</td>\n",
       "    </tr>\n",
       "    <tr>\n",
       "      <th>4</th>\n",
       "      <td>M</td>\n",
       "      <td>AT&amp;T</td>\n",
       "      <td>Smart</td>\n",
       "      <td>Very high</td>\n",
       "      <td>5</td>\n",
       "      <td>5</td>\n",
       "      <td>2</td>\n",
       "    </tr>\n",
       "  </tbody>\n",
       "</table>\n",
       "</div>"
      ],
      "text/plain": [
       "  Gender Carrier   Type      Usage  Signal strength  Value for the Dollar  \\\n",
       "0      M    AT&T  Smart       High                5                     4   \n",
       "1      M    AT&T  Smart       High                5                     4   \n",
       "2      M    AT&T  Smart    Average                4                     4   \n",
       "3      M    AT&T  Smart  Very high                2                     3   \n",
       "4      M    AT&T  Smart  Very high                5                     5   \n",
       "\n",
       "   Customer Service  \n",
       "0                 4  \n",
       "1                 2  \n",
       "2                 4  \n",
       "3                 3  \n",
       "4                 2  "
      ]
     },
     "execution_count": 44,
     "metadata": {},
     "output_type": "execute_result"
    }
   ],
   "source": [
    "df6 = pd.read_excel('Cell Phone Survey.xlsx')\n",
    "df6.head()"
   ]
  },
  {
   "cell_type": "code",
   "execution_count": 45,
   "metadata": {},
   "outputs": [
    {
     "name": "stdout",
     "output_type": "stream",
     "text": [
      "AT&T        26\n",
      "Other        9\n",
      "Sprint       5\n",
      "T-mobile     2\n",
      "Verizon     10\n",
      "Name: Carrier, dtype: int64\n"
     ]
    }
   ],
   "source": [
    "freq_dist=df6[\"Carrier\"].value_counts().sort_index() \n",
    "print(freq_dist)"
   ]
  },
  {
   "cell_type": "code",
   "execution_count": 46,
   "metadata": {},
   "outputs": [
    {
     "data": {
      "image/png": "[encoded data removed]",
      "text/plain": [
       "<Figure size 432x288 with 1 Axes>"
      ]
     },
     "metadata": {
      "needs_background": "light"
     },
     "output_type": "display_data"
    }
   ],
   "source": [
    "fig = plt.figure() \n",
    "ax = fig.add_axes([0,0,1,1])\n",
    "ax.bar(freq_dist.index.tolist(),freq_dist.tolist()) \n",
    "plt.xticks(rotation=90) \n",
    "plt.ylabel('Frequency') \n",
    "plt.xlabel('Signal Strength') \n",
    "plt.title('Frequency Distribution for Phone Survey')\n",
    "plt.show()"
   ]
  },
  {
   "cell_type": "code",
   "execution_count": 47,
   "metadata": {},
   "outputs": [
    {
     "data": {
      "text/plain": [
       "Text(0.5, 1.0, 'Histogram for Phone Survey')"
      ]
     },
     "execution_count": 47,
     "metadata": {},
     "output_type": "execute_result"
    },
    {
     "data": {
      "image/png": "[encoded data removed]",
      "text/plain": [
       "<Figure size 432x288 with 1 Axes>"
      ]
     },
     "metadata": {
      "needs_background": "light"
     },
     "output_type": "display_data"
    }
   ],
   "source": [
    "plt.hist(df6[\"Usage\"])\n",
    "plt.ylabel('Frequency')\n",
    "plt.xlabel('Months')\n",
    "plt.title('Histogram for Phone Survey')"
   ]
  },
  {
   "cell_type": "code",
   "execution_count": 48,
   "metadata": {},
   "outputs": [
    {
     "name": "stdout",
     "output_type": "stream",
     "text": [
      "AT&T        26\n",
      "Other        9\n",
      "Sprint       5\n",
      "T-mobile     2\n",
      "Verizon     10\n",
      "Name: Carrier, dtype: int64\n"
     ]
    }
   ],
   "source": [
    "z = df6[\"Carrier\"].value_counts().sort_index()\n",
    "print(z)"
   ]
  },
  {
   "cell_type": "code",
   "execution_count": 49,
   "metadata": {},
   "outputs": [
    {
     "data": {
      "text/plain": [
       "52"
      ]
     },
     "execution_count": 49,
     "metadata": {},
     "output_type": "execute_result"
    }
   ],
   "source": [
    "count=len(df6)\n",
    "count"
   ]
  },
  {
   "cell_type": "code",
   "execution_count": 50,
   "metadata": {},
   "outputs": [
    {
     "name": "stdout",
     "output_type": "stream",
     "text": [
      "AT&T        0.500000\n",
      "Other       0.173077\n",
      "Sprint      0.096154\n",
      "T-mobile    0.038462\n",
      "Verizon     0.192308\n",
      "Name: Carrier, dtype: float64\n"
     ]
    }
   ],
   "source": [
    "#relative frequnecy\n",
    "print(z/count)"
   ]
  },
  {
   "cell_type": "code",
   "execution_count": 51,
   "metadata": {},
   "outputs": [
    {
     "data": {
      "text/plain": [
       "AT&T        26\n",
       "Other       35\n",
       "Sprint      40\n",
       "T-mobile    42\n",
       "Verizon     52\n",
       "Name: Carrier, dtype: int64"
      ]
     },
     "execution_count": 51,
     "metadata": {},
     "output_type": "execute_result"
    }
   ],
   "source": [
    "#cumalative relative frequency\n",
    "z.cumsum()"
   ]
  },
  {
   "cell_type": "code",
   "execution_count": 52,
   "metadata": {},
   "outputs": [
    {
     "data": {
      "text/plain": [
       "(array([26., 26., 35., 35., 35., 40., 40., 50., 50., 52.]),\n",
       " array([0. , 0.4, 0.8, 1.2, 1.6, 2. , 2.4, 2.8, 3.2, 3.6, 4. ]),\n",
       " <BarContainer object of 10 artists>)"
      ]
     },
     "execution_count": 52,
     "metadata": {},
     "output_type": "execute_result"
    },
    {
     "data": {
      "image/png": "[encoded data removed]",
      "text/plain": [
       "<Figure size 432x288 with 1 Axes>"
      ]
     },
     "metadata": {
      "needs_background": "light"
     },
     "output_type": "display_data"
    }
   ],
   "source": [
    "#graph for cumalative relative data\n",
    "plt.hist(df6['Carrier'],bins=10, cumulative=True)"
   ]
  },
  {
   "cell_type": "code",
   "execution_count": null,
   "metadata": {},
   "outputs": [],
   "source": []
  }
 ],
 "metadata": {
  "kernelspec": {
   "display_name": "Python 3",
   "language": "python",
   "name": "python3"
  },
  "language_info": {
   "codemirror_mode": {
    "name": "ipython",
    "version": 3
   },
   "file_extension": ".py",
   "mimetype": "text/x-python",
   "name": "python",
   "nbconvert_exporter": "python",
   "pygments_lexer": "ipython3",
   "version": "3.8.3"
  }
 },
 "nbformat": 4,
 "nbformat_minor": 4
}
